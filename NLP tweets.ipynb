{
  "nbformat": 4,
  "nbformat_minor": 0,
  "metadata": {
    "accelerator": "GPU",
    "colab": {
      "name": "jiao_1002213428_assignment2.ipynb",
      "provenance": [],
      "toc_visible": true
    },
    "kernelspec": {
      "display_name": "Python 3",
      "language": "python",
      "name": "python3"
    },
    "language_info": {
      "codemirror_mode": {
        "name": "ipython",
        "version": 3
      },
      "file_extension": ".py",
      "mimetype": "text/x-python",
      "name": "python",
      "nbconvert_exporter": "python",
      "pygments_lexer": "ipython3",
      "version": "3.7.3"
    }
  },
  "cells": [
    {
      "cell_type": "markdown",
      "metadata": {
        "colab_type": "text",
        "id": "jnavap88vgJV"
      },
      "source": [
        "# Imports and Read files"
      ]
    },
    {
      "cell_type": "code",
      "metadata": {
        "colab_type": "code",
        "id": "qxWtIP2DvdkG",
        "outputId": "79d1a6fa-e30e-4277-af0d-ad065f90cb80",
        "colab": {
          "base_uri": "https://localhost:8080/",
          "height": 119
        }
      },
      "source": [
        "import pandas as pd\n",
        "import numpy as np\n",
        "import seaborn as sns\n",
        "import matplotlib.pyplot as plt\n",
        "import re\n",
        "import string\n",
        "from IPython.display import clear_output, display\n",
        "import html\n",
        "from html.parser import HTMLParser\n",
        "from bs4 import BeautifulSoup\n",
        "import unicodedata\n",
        "import warnings\n",
        "warnings.filterwarnings('ignore')\n",
        "from sklearn.model_selection import train_test_split\n",
        "from sklearn.feature_extraction.text import CountVectorizer\n",
        "from sklearn.feature_extraction.text import TfidfVectorizer\n",
        "from sklearn.metrics import accuracy_score\n",
        "from sklearn.model_selection import GridSearchCV\n",
        "from sklearn.metrics import confusion_matrix\n",
        "from sklearn.metrics import classification_report\n",
        "from sklearn.model_selection import cross_val_score\n",
        "import nltk\n",
        "from nltk.corpus import stopwords\n",
        "from nltk.tokenize import word_tokenize\n",
        "nltk.download('wordnet')\n",
        "nltk.download('punkt')\n",
        "nltk.download('stopwords')\n",
        "from wordcloud import WordCloud, STOPWORDS, ImageColorGenerator\n",
        "%matplotlib inline "
      ],
      "execution_count": 0,
      "outputs": [
        {
          "output_type": "stream",
          "text": [
            "[nltk_data] Downloading package wordnet to\n",
            "[nltk_data]     C:\\Users\\Jayde\\AppData\\Roaming\\nltk_data...\n",
            "[nltk_data]   Package wordnet is already up-to-date!\n",
            "[nltk_data] Downloading package punkt to\n",
            "[nltk_data]     C:\\Users\\Jayde\\AppData\\Roaming\\nltk_data...\n",
            "[nltk_data]   Package punkt is already up-to-date!\n",
            "[nltk_data] Downloading package stopwords to\n",
            "[nltk_data]     C:\\Users\\Jayde\\AppData\\Roaming\\nltk_data...\n",
            "[nltk_data]   Package stopwords is already up-to-date!\n"
          ],
          "name": "stderr"
        }
      ]
    },
    {
      "cell_type": "code",
      "metadata": {
        "colab_type": "code",
        "id": "S_UAUurlv4-z",
        "outputId": "9a2e5faa-a91e-402a-ccf8-0bd8db3474b3",
        "colab": {
          "base_uri": "https://localhost:8080/",
          "height": 204
        }
      },
      "source": [
        "# read generic_tweets\n",
        "sentiments = pd.read_csv('Sentiment.csv')\n",
        "sentiments.head()"
      ],
      "execution_count": 0,
      "outputs": [
        {
          "output_type": "execute_result",
          "data": {
            "text/html": [
              "<div>\n",
              "<style scoped>\n",
              "    .dataframe tbody tr th:only-of-type {\n",
              "        vertical-align: middle;\n",
              "    }\n",
              "\n",
              "    .dataframe tbody tr th {\n",
              "        vertical-align: top;\n",
              "    }\n",
              "\n",
              "    .dataframe thead th {\n",
              "        text-align: right;\n",
              "    }\n",
              "</style>\n",
              "<table border=\"1\" class=\"dataframe\">\n",
              "  <thead>\n",
              "    <tr style=\"text-align: right;\">\n",
              "      <th></th>\n",
              "      <th>sentiment</th>\n",
              "      <th>text</th>\n",
              "    </tr>\n",
              "  </thead>\n",
              "  <tbody>\n",
              "    <tr>\n",
              "      <th>0</th>\n",
              "      <td>Positive</td>\n",
              "      <td>RT @Diplomtc_Immnty: @realDonaldTrump They tri...</td>\n",
              "    </tr>\n",
              "    <tr>\n",
              "      <th>1</th>\n",
              "      <td>Negative</td>\n",
              "      <td>@chiefy74 Damn i'm jealous, i wanna watch the ...</td>\n",
              "    </tr>\n",
              "    <tr>\n",
              "      <th>2</th>\n",
              "      <td>Positive</td>\n",
              "      <td>I'm listening The Beatles now. They're great</td>\n",
              "    </tr>\n",
              "    <tr>\n",
              "      <th>3</th>\n",
              "      <td>Positive</td>\n",
              "      <td>@ddlovato could i please get a shout out or an...</td>\n",
              "    </tr>\n",
              "    <tr>\n",
              "      <th>4</th>\n",
              "      <td>Positive</td>\n",
              "      <td>@salspizza just spotted ur message there Tony ...</td>\n",
              "    </tr>\n",
              "  </tbody>\n",
              "</table>\n",
              "</div>"
            ],
            "text/plain": [
              "  sentiment                                               text\n",
              "0  Positive  RT @Diplomtc_Immnty: @realDonaldTrump They tri...\n",
              "1  Negative  @chiefy74 Damn i'm jealous, i wanna watch the ...\n",
              "2  Positive      I'm listening The Beatles now. They're great \n",
              "3  Positive  @ddlovato could i please get a shout out or an...\n",
              "4  Positive  @salspizza just spotted ur message there Tony ..."
            ]
          },
          "metadata": {
            "tags": []
          },
          "execution_count": 2
        }
      ]
    },
    {
      "cell_type": "code",
      "metadata": {
        "colab_type": "code",
        "id": "AN21ucn_v7Af",
        "outputId": "8544c02f-90df-4764-b56c-00bd993a1b1d",
        "colab": {
          "base_uri": "https://localhost:8080/",
          "height": 204
        }
      },
      "source": [
        "# read canadian_elections\n",
        "canadian_elections = pd.read_csv('Canadian_elections_2019.csv')\n",
        "canadian_elections.head()"
      ],
      "execution_count": 0,
      "outputs": [
        {
          "output_type": "execute_result",
          "data": {
            "text/html": [
              "<div>\n",
              "<style scoped>\n",
              "    .dataframe tbody tr th:only-of-type {\n",
              "        vertical-align: middle;\n",
              "    }\n",
              "\n",
              "    .dataframe tbody tr th {\n",
              "        vertical-align: top;\n",
              "    }\n",
              "\n",
              "    .dataframe thead th {\n",
              "        text-align: right;\n",
              "    }\n",
              "</style>\n",
              "<table border=\"1\" class=\"dataframe\">\n",
              "  <thead>\n",
              "    <tr style=\"text-align: right;\">\n",
              "      <th></th>\n",
              "      <th>sentiment</th>\n",
              "      <th>negative_reason</th>\n",
              "      <th>text</th>\n",
              "    </tr>\n",
              "  </thead>\n",
              "  <tbody>\n",
              "    <tr>\n",
              "      <th>0</th>\n",
              "      <td>Negative</td>\n",
              "      <td>Women Reproductive right and Racism</td>\n",
              "      <td>b\"@RosieBarton So instead of your suggestion, ...</td>\n",
              "    </tr>\n",
              "    <tr>\n",
              "      <th>1</th>\n",
              "      <td>Positive</td>\n",
              "      <td>NaN</td>\n",
              "      <td>b\"#AllWomanSpacewalk it's real!\\n@Space_Statio...</td>\n",
              "    </tr>\n",
              "    <tr>\n",
              "      <th>2</th>\n",
              "      <td>Negative</td>\n",
              "      <td>Economy</td>\n",
              "      <td>b\"#Brantford It's going to cost YOU $94 BILLIO...</td>\n",
              "    </tr>\n",
              "    <tr>\n",
              "      <th>3</th>\n",
              "      <td>Positive</td>\n",
              "      <td>NaN</td>\n",
              "      <td>b\"#Canada #CanadaElection2019 #CanadaVotes \\n#...</td>\n",
              "    </tr>\n",
              "    <tr>\n",
              "      <th>4</th>\n",
              "      <td>Negative</td>\n",
              "      <td>Economy</td>\n",
              "      <td>b\"#Canada #taxpayers are sick &amp;amp; tired of h...</td>\n",
              "    </tr>\n",
              "  </tbody>\n",
              "</table>\n",
              "</div>"
            ],
            "text/plain": [
              "  sentiment                      negative_reason  \\\n",
              "0  Negative  Women Reproductive right and Racism   \n",
              "1  Positive                                  NaN   \n",
              "2  Negative                              Economy   \n",
              "3  Positive                                  NaN   \n",
              "4  Negative                              Economy   \n",
              "\n",
              "                                                text  \n",
              "0  b\"@RosieBarton So instead of your suggestion, ...  \n",
              "1  b\"#AllWomanSpacewalk it's real!\\n@Space_Statio...  \n",
              "2  b\"#Brantford It's going to cost YOU $94 BILLIO...  \n",
              "3  b\"#Canada #CanadaElection2019 #CanadaVotes \\n#...  \n",
              "4  b\"#Canada #taxpayers are sick &amp; tired of h...  "
            ]
          },
          "metadata": {
            "tags": []
          },
          "execution_count": 3
        }
      ]
    },
    {
      "cell_type": "markdown",
      "metadata": {
        "colab_type": "text",
        "id": "hbIlaEZ2xobS"
      },
      "source": [
        "# Data Cleaning"
      ]
    },
    {
      "cell_type": "markdown",
      "metadata": {
        "colab_type": "text",
        "id": "x4UAAPvjQilN"
      },
      "source": [
        "In this section, the two different datasets are cleaned by removing html tags, html codes,mentions and URLs. \n",
        "\n",
        "In addition, all words are made lowercase, with stop words removed.\n",
        "\n",
        "The subsections below are:\n",
        "\n",
        "    1.1 Generic Tweet(Sentiment.csv) Cleaning\n",
        "    \n",
        "    1.2 Canadian Election Tweet Cleaning"
      ]
    },
    {
      "cell_type": "markdown",
      "metadata": {
        "colab_type": "text",
        "id": "TDBqQCJIdcWc"
      },
      "source": [
        "## Defining Functions to clean dataset"
      ]
    },
    {
      "cell_type": "markdown",
      "metadata": {
        "colab_type": "text",
        "id": "GVqpmir4TmAV"
      },
      "source": [
        "I defined some functions to remove the \"noise\" of the tweets text."
      ]
    },
    {
      "cell_type": "code",
      "metadata": {
        "colab_type": "code",
        "id": "hG8sAfyHd1Bb",
        "colab": {}
      },
      "source": [
        "def parse(text):\n",
        "    \"\"\"\n",
        "    remove html tags and attributes using beautifulSoup html.parser\n",
        "    returns output as text\n",
        "    example: &amp = & in the first line of sentiment data\n",
        "    \"\"\"\n",
        "    soup=BeautifulSoup(text,'html.parser')\n",
        "    return soup.get_text()"
      ],
      "execution_count": 0,
      "outputs": []
    },
    {
      "cell_type": "code",
      "metadata": {
        "colab_type": "code",
        "id": "PKbvJGIBd4qV",
        "colab": {}
      },
      "source": [
        "def normalize(text):\n",
        "    \"\"\"\n",
        "    normalizes unicode character to regular text\n",
        "    Example: normalize('â€¦')='a' in the frist line of sentiment data\n",
        "    Example: ðÿ‡ºðÿ‡¸ #gopdebateâ€¦ = yoy  #gopdebatea  line 642 of sentiment data\n",
        "    \"\"\"\n",
        "    # read ascii characters using NFKD method, then decode back to string\n",
        "    text=unicodedata.normalize('NFKD',text).encode('ascii', 'ignore').decode('utf-8')\n",
        "    return text"
      ],
      "execution_count": 0,
      "outputs": []
    },
    {
      "cell_type": "code",
      "metadata": {
        "colab_type": "code",
        "id": "EGsVajhfd8VQ",
        "colab": {}
      },
      "source": [
        "def remove_URL(text):\n",
        "    \"\"\"\n",
        "    removes URL\n",
        "    \"\"\"\n",
        "\n",
        "    text = re.sub(r'http\\S+', '', text) \n",
        "    text = re.sub(r'www\\S+', '', text)\n",
        "\n",
        "    return(text)"
      ],
      "execution_count": 0,
      "outputs": []
    },
    {
      "cell_type": "code",
      "metadata": {
        "colab_type": "code",
        "id": "2zQFnIOhd-uG",
        "colab": {}
      },
      "source": [
        "def remove_mentions(text):\n",
        "    \"\"\"\n",
        "    get rid of tweets mentions.\n",
        "    \"\"\"\n",
        "    text = re.sub(r'@[A-Za-z0-9]+_[A-Za-z0-9]+_[A-Za-z0-9]+','',text)#for user name has three \"_\"\n",
        "    text = re.sub(r'@[A-Za-z0-9]+_[A-Za-z0-9]+','',text)#for user name has two \"_\"\n",
        "    text = re.sub(r'@[A-Za-z0-9]+','',text)\n",
        "    \n",
        "    return text"
      ],
      "execution_count": 0,
      "outputs": []
    },
    {
      "cell_type": "code",
      "metadata": {
        "colab_type": "code",
        "id": "1Ktam7ykg9Sh",
        "colab": {}
      },
      "source": [
        "def remove_spaces(text):\n",
        "    \"\"\"\n",
        "    get rid of  miscellaneous items as well as trailing and leading white spaces\n",
        "    \"\"\"\n",
        "    text = re.sub(r'\\s+',' ',text)\n",
        "    text = re.sub(r'-','',text)\n",
        "    \n",
        "    return text"
      ],
      "execution_count": 0,
      "outputs": []
    },
    {
      "cell_type": "code",
      "metadata": {
        "colab_type": "code",
        "id": "-CHJUb_Rl8kW",
        "colab": {}
      },
      "source": [
        "def remove_nonletter(text):\n",
        "    \"\"\"\n",
        "    matching anything that is not in the a-z, A-Z(nonletter)\n",
        "    replace those with white space\n",
        "    \"\"\"\n",
        "\n",
        "    text=re.sub(r'[^a-zA-Z ]+', ' ', text)\n",
        "    return text"
      ],
      "execution_count": 0,
      "outputs": []
    },
    {
      "cell_type": "markdown",
      "metadata": {
        "colab_type": "text",
        "id": "PetVTK7Wx3HP"
      },
      "source": [
        "## Cleaning for labeled generic tweet data(sentiments.csv)"
      ]
    },
    {
      "cell_type": "code",
      "metadata": {
        "colab_type": "code",
        "id": "mSGaFsOBxqt7",
        "outputId": "4047cacd-b4aa-4636-d168-644925fb54c9",
        "colab": {
          "base_uri": "https://localhost:8080/",
          "height": 204
        }
      },
      "source": [
        "#extract text data into a new dataframe\n",
        "generic_tweet_text = sentiments[['text']]\n",
        "generic_tweet_text.head()"
      ],
      "execution_count": 0,
      "outputs": [
        {
          "output_type": "execute_result",
          "data": {
            "text/html": [
              "<div>\n",
              "<style scoped>\n",
              "    .dataframe tbody tr th:only-of-type {\n",
              "        vertical-align: middle;\n",
              "    }\n",
              "\n",
              "    .dataframe tbody tr th {\n",
              "        vertical-align: top;\n",
              "    }\n",
              "\n",
              "    .dataframe thead th {\n",
              "        text-align: right;\n",
              "    }\n",
              "</style>\n",
              "<table border=\"1\" class=\"dataframe\">\n",
              "  <thead>\n",
              "    <tr style=\"text-align: right;\">\n",
              "      <th></th>\n",
              "      <th>text</th>\n",
              "    </tr>\n",
              "  </thead>\n",
              "  <tbody>\n",
              "    <tr>\n",
              "      <th>0</th>\n",
              "      <td>RT @Diplomtc_Immnty: @realDonaldTrump They tri...</td>\n",
              "    </tr>\n",
              "    <tr>\n",
              "      <th>1</th>\n",
              "      <td>@chiefy74 Damn i'm jealous, i wanna watch the ...</td>\n",
              "    </tr>\n",
              "    <tr>\n",
              "      <th>2</th>\n",
              "      <td>I'm listening The Beatles now. They're great</td>\n",
              "    </tr>\n",
              "    <tr>\n",
              "      <th>3</th>\n",
              "      <td>@ddlovato could i please get a shout out or an...</td>\n",
              "    </tr>\n",
              "    <tr>\n",
              "      <th>4</th>\n",
              "      <td>@salspizza just spotted ur message there Tony ...</td>\n",
              "    </tr>\n",
              "  </tbody>\n",
              "</table>\n",
              "</div>"
            ],
            "text/plain": [
              "                                                text\n",
              "0  RT @Diplomtc_Immnty: @realDonaldTrump They tri...\n",
              "1  @chiefy74 Damn i'm jealous, i wanna watch the ...\n",
              "2      I'm listening The Beatles now. They're great \n",
              "3  @ddlovato could i please get a shout out or an...\n",
              "4  @salspizza just spotted ur message there Tony ..."
            ]
          },
          "metadata": {
            "tags": []
          },
          "execution_count": 10
        }
      ]
    },
    {
      "cell_type": "code",
      "metadata": {
        "colab_type": "code",
        "id": "-gbEs3MWzbeI",
        "colab": {}
      },
      "source": [
        "#data cleaning\n",
        "generic_tweet_text_cleaned = generic_tweet_text.apply(lambda x: x.astype(str).str.lower())#lower case\n",
        "generic_tweet_text_cleaned['text'] = generic_tweet_text_cleaned['text'].apply(parse)\n",
        "generic_tweet_text_cleaned['text'] = generic_tweet_text_cleaned['text'].apply(normalize)\n",
        "generic_tweet_text_cleaned['text'] = generic_tweet_text_cleaned['text'].apply(remove_URL)\n",
        "generic_tweet_text_cleaned['text'] = generic_tweet_text_cleaned['text'].apply(remove_mentions)\n",
        "generic_tweet_text_cleaned['text'] = generic_tweet_text_cleaned['text'].apply(remove_spaces)\n",
        "generic_tweet_text_cleaned['text'] = generic_tweet_text_cleaned['text'].apply(remove_nonletter)"
      ],
      "execution_count": 0,
      "outputs": []
    },
    {
      "cell_type": "code",
      "metadata": {
        "colab_type": "code",
        "id": "ZG5AvMO0ciGl",
        "outputId": "900b8ca8-88fc-48f2-b901-60e71d7a4dd4",
        "colab": {
          "base_uri": "https://localhost:8080/",
          "height": 204
        }
      },
      "source": [
        "generic_tweet_text_cleaned.head()"
      ],
      "execution_count": 0,
      "outputs": [
        {
          "output_type": "execute_result",
          "data": {
            "text/html": [
              "<div>\n",
              "<style scoped>\n",
              "    .dataframe tbody tr th:only-of-type {\n",
              "        vertical-align: middle;\n",
              "    }\n",
              "\n",
              "    .dataframe tbody tr th {\n",
              "        vertical-align: top;\n",
              "    }\n",
              "\n",
              "    .dataframe thead th {\n",
              "        text-align: right;\n",
              "    }\n",
              "</style>\n",
              "<table border=\"1\" class=\"dataframe\">\n",
              "  <thead>\n",
              "    <tr style=\"text-align: right;\">\n",
              "      <th></th>\n",
              "      <th>text</th>\n",
              "    </tr>\n",
              "  </thead>\n",
              "  <tbody>\n",
              "    <tr>\n",
              "      <th>0</th>\n",
              "      <td>rt   they tried to take you out   your poll nu...</td>\n",
              "    </tr>\n",
              "    <tr>\n",
              "      <th>1</th>\n",
              "      <td>damn i m jealous  i wanna watch the fight i l...</td>\n",
              "    </tr>\n",
              "    <tr>\n",
              "      <th>2</th>\n",
              "      <td>i m listening the beatles now  they re great</td>\n",
              "    </tr>\n",
              "    <tr>\n",
              "      <th>3</th>\n",
              "      <td>could i please get a shout out or anything  i...</td>\n",
              "    </tr>\n",
              "    <tr>\n",
              "      <th>4</th>\n",
              "      <td>just spotted ur message there tony and have r...</td>\n",
              "    </tr>\n",
              "  </tbody>\n",
              "</table>\n",
              "</div>"
            ],
            "text/plain": [
              "                                                text\n",
              "0  rt   they tried to take you out   your poll nu...\n",
              "1   damn i m jealous  i wanna watch the fight i l...\n",
              "2      i m listening the beatles now  they re great \n",
              "3   could i please get a shout out or anything  i...\n",
              "4   just spotted ur message there tony and have r..."
            ]
          },
          "metadata": {
            "tags": []
          },
          "execution_count": 12
        }
      ]
    },
    {
      "cell_type": "code",
      "metadata": {
        "colab_type": "code",
        "id": "31yULodmiz-s",
        "outputId": "b0ce993b-bde0-44da-aab6-00934da20dd3",
        "colab": {
          "base_uri": "https://localhost:8080/",
          "height": 419
        }
      },
      "source": [
        "# concatenate regular text with cleaned_text\n",
        "generic_tweet_text_cleaned.columns = ['cleaned_text']\n",
        "labeled_generic_tweet = pd.concat([sentiments, generic_tweet_text_cleaned], axis=1)\n",
        "labeled_generic_tweet.head()"
      ],
      "execution_count": 0,
      "outputs": [
        {
          "output_type": "execute_result",
          "data": {
            "text/html": [
              "<div>\n",
              "<style scoped>\n",
              "    .dataframe tbody tr th:only-of-type {\n",
              "        vertical-align: middle;\n",
              "    }\n",
              "\n",
              "    .dataframe tbody tr th {\n",
              "        vertical-align: top;\n",
              "    }\n",
              "\n",
              "    .dataframe thead th {\n",
              "        text-align: right;\n",
              "    }\n",
              "</style>\n",
              "<table border=\"1\" class=\"dataframe\">\n",
              "  <thead>\n",
              "    <tr style=\"text-align: right;\">\n",
              "      <th></th>\n",
              "      <th>sentiment</th>\n",
              "      <th>text</th>\n",
              "      <th>cleaned_text</th>\n",
              "    </tr>\n",
              "  </thead>\n",
              "  <tbody>\n",
              "    <tr>\n",
              "      <th>0</th>\n",
              "      <td>Positive</td>\n",
              "      <td>RT @Diplomtc_Immnty: @realDonaldTrump They tri...</td>\n",
              "      <td>rt   they tried to take you out   your poll nu...</td>\n",
              "    </tr>\n",
              "    <tr>\n",
              "      <th>1</th>\n",
              "      <td>Negative</td>\n",
              "      <td>@chiefy74 Damn i'm jealous, i wanna watch the ...</td>\n",
              "      <td>damn i m jealous  i wanna watch the fight i l...</td>\n",
              "    </tr>\n",
              "    <tr>\n",
              "      <th>2</th>\n",
              "      <td>Positive</td>\n",
              "      <td>I'm listening The Beatles now. They're great</td>\n",
              "      <td>i m listening the beatles now  they re great</td>\n",
              "    </tr>\n",
              "    <tr>\n",
              "      <th>3</th>\n",
              "      <td>Positive</td>\n",
              "      <td>@ddlovato could i please get a shout out or an...</td>\n",
              "      <td>could i please get a shout out or anything  i...</td>\n",
              "    </tr>\n",
              "    <tr>\n",
              "      <th>4</th>\n",
              "      <td>Positive</td>\n",
              "      <td>@salspizza just spotted ur message there Tony ...</td>\n",
              "      <td>just spotted ur message there tony and have r...</td>\n",
              "    </tr>\n",
              "  </tbody>\n",
              "</table>\n",
              "</div>"
            ],
            "text/plain": [
              "  sentiment                                               text  \\\n",
              "0  Positive  RT @Diplomtc_Immnty: @realDonaldTrump They tri...   \n",
              "1  Negative  @chiefy74 Damn i'm jealous, i wanna watch the ...   \n",
              "2  Positive      I'm listening The Beatles now. They're great    \n",
              "3  Positive  @ddlovato could i please get a shout out or an...   \n",
              "4  Positive  @salspizza just spotted ur message there Tony ...   \n",
              "\n",
              "                                        cleaned_text  \n",
              "0  rt   they tried to take you out   your poll nu...  \n",
              "1   damn i m jealous  i wanna watch the fight i l...  \n",
              "2      i m listening the beatles now  they re great   \n",
              "3   could i please get a shout out or anything  i...  \n",
              "4   just spotted ur message there tony and have r...  "
            ]
          },
          "metadata": {
            "tags": []
          },
          "execution_count": 13
        }
      ]
    },
    {
      "cell_type": "markdown",
      "metadata": {
        "colab_type": "text",
        "id": "_qMF58lykj7Y"
      },
      "source": [
        "### Remove stopwords and perform Lemmatising"
      ]
    },
    {
      "cell_type": "markdown",
      "metadata": {
        "colab_type": "text",
        "id": "uDAVImsNpM8W"
      },
      "source": [
        "Stopword is defined as commonly used words that can be ignored because they do not add to the meaning of the sentence. For example, these words may include \"a\", \"an\", \"the\" amongst others. By removing the stopwords, it reduces the amount of vocabulary present in the dataset while keeping words that are important.\n",
        "\n",
        "I decided to remove stopwords from each tweet by using 'stop_words' from the nltk library which provides a list of stopwords. \n",
        "\n"
      ]
    },
    {
      "cell_type": "code",
      "metadata": {
        "colab_type": "code",
        "id": "5Gu01pWWk4Y-",
        "colab": {}
      },
      "source": [
        "# nltk stopwords list\n",
        "stop_words = set(stopwords.words('english'))\n",
        "#adding new stopwords\n",
        "stop_words.add(\"i'm\")\n",
        "stop_words.add(\"they're\")\n",
        "stop_words.add(\"thats\")\n",
        "stop_words.add(\"tho\")\n",
        "stop_words.add(\"also\")\n",
        "\n",
        "labeled_generic_tweet['tweets_without_stopwords'] = labeled_generic_tweet['cleaned_text'].apply(lambda x: ' '.join([word for word in x.split() if word not in (stop_words)]))"
      ],
      "execution_count": 0,
      "outputs": []
    },
    {
      "cell_type": "markdown",
      "metadata": {
        "colab_type": "text",
        "id": "sQoFeZdHsWXZ"
      },
      "source": [
        "Lemmatising each words within a tweet to return each word to root form of a word(no prefix, suffix or infix). This method turns word into its base form.\n",
        "\n",
        "**Comparison between lemmatising and stemming:**\n",
        "\n",
        "Lemmatising is chosen over stemming as it is usually more precise than Stemming. Also, the word after lemmatising can be readable by human, however, word after stemming may not readble. Stemming is a crude process that removes the end of the word to attempt to return the word to its base form, where as Lemmatization uses a vocabulary and morphological analysis of the word to return it to its base form. \n",
        "\n",
        "Lemmatization is more computationally expensive than stemming, however, given the dataset is small in this analysis, the computation cost is negligable."
      ]
    },
    {
      "cell_type": "code",
      "metadata": {
        "colab_type": "code",
        "id": "syDMUHaOoShS",
        "colab": {}
      },
      "source": [
        "from nltk.stem import WordNetLemmatizer\n",
        "\n",
        "lemmatizer = WordNetLemmatizer()\n",
        "\n",
        "def lemmatising (text):\n",
        "\n",
        "    words_in_each_tweet = word_tokenize(text)\n",
        "    final = [lemmatizer.lemmatize(word) for word in words_in_each_tweet]\n",
        "    stemmed_string = ' '.join(final)\n",
        "    return stemmed_string"
      ],
      "execution_count": 0,
      "outputs": []
    },
    {
      "cell_type": "code",
      "metadata": {
        "colab_type": "code",
        "id": "qCfT2YRruEGD",
        "colab": {}
      },
      "source": [
        "labeled_generic_tweet['tweets_with_lemmer'] = labeled_generic_tweet['tweets_without_stopwords'].apply(lemmatising)"
      ],
      "execution_count": 0,
      "outputs": []
    },
    {
      "cell_type": "code",
      "metadata": {
        "colab_type": "code",
        "id": "7TD5Z940udus",
        "outputId": "c3063b51-2961-4164-f2f8-162b2aa1bed7",
        "colab": {
          "base_uri": "https://localhost:8080/"
        }
      },
      "source": [
        "labeled_generic_tweet.head()"
      ],
      "execution_count": 0,
      "outputs": [
        {
          "output_type": "execute_result",
          "data": {
            "text/html": [
              "<div>\n",
              "<style scoped>\n",
              "    .dataframe tbody tr th:only-of-type {\n",
              "        vertical-align: middle;\n",
              "    }\n",
              "\n",
              "    .dataframe tbody tr th {\n",
              "        vertical-align: top;\n",
              "    }\n",
              "\n",
              "    .dataframe thead th {\n",
              "        text-align: right;\n",
              "    }\n",
              "</style>\n",
              "<table border=\"1\" class=\"dataframe\">\n",
              "  <thead>\n",
              "    <tr style=\"text-align: right;\">\n",
              "      <th></th>\n",
              "      <th>sentiment</th>\n",
              "      <th>text</th>\n",
              "      <th>cleaned_text</th>\n",
              "      <th>tweets_without_stopwords</th>\n",
              "      <th>tweets_with_lemmer</th>\n",
              "    </tr>\n",
              "  </thead>\n",
              "  <tbody>\n",
              "    <tr>\n",
              "      <th>0</th>\n",
              "      <td>Positive</td>\n",
              "      <td>RT @Diplomtc_Immnty: @realDonaldTrump They tri...</td>\n",
              "      <td>rt   they tried to take you out   your poll nu...</td>\n",
              "      <td>rt tried take poll numbers skyrocketed voters ...</td>\n",
              "      <td>rt tried take poll number skyrocketed voter ma...</td>\n",
              "    </tr>\n",
              "    <tr>\n",
              "      <th>1</th>\n",
              "      <td>Negative</td>\n",
              "      <td>@chiefy74 Damn i'm jealous, i wanna watch the ...</td>\n",
              "      <td>damn i m jealous  i wanna watch the fight i l...</td>\n",
              "      <td>damn jealous wanna watch fight love ufc one knows</td>\n",
              "      <td>damn jealous wan na watch fight love ufc one know</td>\n",
              "    </tr>\n",
              "    <tr>\n",
              "      <th>2</th>\n",
              "      <td>Positive</td>\n",
              "      <td>I'm listening The Beatles now. They're great</td>\n",
              "      <td>i m listening the beatles now  they re great</td>\n",
              "      <td>listening beatles great</td>\n",
              "      <td>listening beatles great</td>\n",
              "    </tr>\n",
              "    <tr>\n",
              "      <th>3</th>\n",
              "      <td>Positive</td>\n",
              "      <td>@ddlovato could i please get a shout out or an...</td>\n",
              "      <td>could i please get a shout out or anything  i...</td>\n",
              "      <td>could please get shout anything huge fan wait ...</td>\n",
              "      <td>could please get shout anything huge fan wait ...</td>\n",
              "    </tr>\n",
              "    <tr>\n",
              "      <th>4</th>\n",
              "      <td>Positive</td>\n",
              "      <td>@salspizza just spotted ur message there Tony ...</td>\n",
              "      <td>just spotted ur message there tony and have r...</td>\n",
              "      <td>spotted ur message tony replied</td>\n",
              "      <td>spotted ur message tony replied</td>\n",
              "    </tr>\n",
              "  </tbody>\n",
              "</table>\n",
              "</div>"
            ],
            "text/plain": [
              "  sentiment                                               text  \\\n",
              "0  Positive  RT @Diplomtc_Immnty: @realDonaldTrump They tri...   \n",
              "1  Negative  @chiefy74 Damn i'm jealous, i wanna watch the ...   \n",
              "2  Positive      I'm listening The Beatles now. They're great    \n",
              "3  Positive  @ddlovato could i please get a shout out or an...   \n",
              "4  Positive  @salspizza just spotted ur message there Tony ...   \n",
              "\n",
              "                                        cleaned_text  \\\n",
              "0  rt   they tried to take you out   your poll nu...   \n",
              "1   damn i m jealous  i wanna watch the fight i l...   \n",
              "2      i m listening the beatles now  they re great    \n",
              "3   could i please get a shout out or anything  i...   \n",
              "4   just spotted ur message there tony and have r...   \n",
              "\n",
              "                            tweets_without_stopwords  \\\n",
              "0  rt tried take poll numbers skyrocketed voters ...   \n",
              "1  damn jealous wanna watch fight love ufc one knows   \n",
              "2                            listening beatles great   \n",
              "3  could please get shout anything huge fan wait ...   \n",
              "4                    spotted ur message tony replied   \n",
              "\n",
              "                                  tweets_with_lemmer  \n",
              "0  rt tried take poll number skyrocketed voter ma...  \n",
              "1  damn jealous wan na watch fight love ufc one know  \n",
              "2                            listening beatles great  \n",
              "3  could please get shout anything huge fan wait ...  \n",
              "4                    spotted ur message tony replied  "
            ]
          },
          "metadata": {
            "tags": []
          },
          "execution_count": 17
        }
      ]
    },
    {
      "cell_type": "code",
      "metadata": {
        "colab_type": "code",
        "id": "kkItVP2zmS2B",
        "outputId": "751f53af-7309-468f-f371-bac64d7dde60",
        "colab": {
          "base_uri": "https://localhost:8080/"
        }
      },
      "source": [
        "labeled_generic_tweet['tweets_with_lemmer'].isnull().sum()"
      ],
      "execution_count": 0,
      "outputs": [
        {
          "output_type": "execute_result",
          "data": {
            "text/plain": [
              "0"
            ]
          },
          "metadata": {
            "tags": []
          },
          "execution_count": 18
        }
      ]
    },
    {
      "cell_type": "markdown",
      "metadata": {
        "colab_type": "text",
        "id": "jZby997Y1i9o"
      },
      "source": [
        "## Cleaning Canadian_elections Dataset"
      ]
    },
    {
      "cell_type": "markdown",
      "metadata": {
        "colab_type": "text",
        "id": "gLTPyYxIrh1M"
      },
      "source": [
        "In this section, the canadian election tweets are cleaned based on the same procedure as stated above (lowercase, HTML, URLs, stopwords, stemming, punctuations ...etc.). Some additional steps were taken to consider the differences in the dataset. Besides removing miscellaneous items such as \"\\\", \"|\", I've also had to remove the following (the code to do so are seen in the block of code following the next one):\n",
        "\n",
        "    - \"\\n\": new lines\n",
        "    - \"b\"\", \"b'\": byte strings\n",
        "    - \"\\xf0\\x9f\\x87\\xa8\\xf0\\x9f\\x87\": Unicode Hex Characters"
      ]
    },
    {
      "cell_type": "code",
      "metadata": {
        "colab_type": "code",
        "id": "Km4YV9iB1sSZ",
        "outputId": "1c5fbb7f-26bc-499d-97bd-6e99b83e1afa",
        "colab": {
          "base_uri": "https://localhost:8080/"
        }
      },
      "source": [
        "#extract text data into a new dataframe\n",
        "canadian_elections_text = canadian_elections[['text']]\n",
        "canadian_elections_text.head()"
      ],
      "execution_count": 0,
      "outputs": [
        {
          "output_type": "execute_result",
          "data": {
            "text/html": [
              "<div>\n",
              "<style scoped>\n",
              "    .dataframe tbody tr th:only-of-type {\n",
              "        vertical-align: middle;\n",
              "    }\n",
              "\n",
              "    .dataframe tbody tr th {\n",
              "        vertical-align: top;\n",
              "    }\n",
              "\n",
              "    .dataframe thead th {\n",
              "        text-align: right;\n",
              "    }\n",
              "</style>\n",
              "<table border=\"1\" class=\"dataframe\">\n",
              "  <thead>\n",
              "    <tr style=\"text-align: right;\">\n",
              "      <th></th>\n",
              "      <th>text</th>\n",
              "    </tr>\n",
              "  </thead>\n",
              "  <tbody>\n",
              "    <tr>\n",
              "      <th>0</th>\n",
              "      <td>b\"@RosieBarton So instead of your suggestion, ...</td>\n",
              "    </tr>\n",
              "    <tr>\n",
              "      <th>1</th>\n",
              "      <td>b\"#AllWomanSpacewalk it's real!\\n@Space_Statio...</td>\n",
              "    </tr>\n",
              "    <tr>\n",
              "      <th>2</th>\n",
              "      <td>b\"#Brantford It's going to cost YOU $94 BILLIO...</td>\n",
              "    </tr>\n",
              "    <tr>\n",
              "      <th>3</th>\n",
              "      <td>b\"#Canada #CanadaElection2019 #CanadaVotes \\n#...</td>\n",
              "    </tr>\n",
              "    <tr>\n",
              "      <th>4</th>\n",
              "      <td>b\"#Canada #taxpayers are sick &amp;amp; tired of h...</td>\n",
              "    </tr>\n",
              "  </tbody>\n",
              "</table>\n",
              "</div>"
            ],
            "text/plain": [
              "                                                text\n",
              "0  b\"@RosieBarton So instead of your suggestion, ...\n",
              "1  b\"#AllWomanSpacewalk it's real!\\n@Space_Statio...\n",
              "2  b\"#Brantford It's going to cost YOU $94 BILLIO...\n",
              "3  b\"#Canada #CanadaElection2019 #CanadaVotes \\n#...\n",
              "4  b\"#Canada #taxpayers are sick &amp; tired of h..."
            ]
          },
          "metadata": {
            "tags": []
          },
          "execution_count": 19
        }
      ]
    },
    {
      "cell_type": "code",
      "metadata": {
        "colab_type": "code",
        "id": "j_Nc8o1L2o16",
        "colab": {}
      },
      "source": [
        "#data cleaning\n",
        "canadian_elections_text_cleaned = canadian_elections_text.apply(lambda x: x.astype(str).str.lower())#lower case\n",
        "canadian_elections_text_cleaned['text'] = canadian_elections_text_cleaned['text'].apply(parse)\n",
        "canadian_elections_text_cleaned['text'] = canadian_elections_text_cleaned['text'].apply(normalize)\n",
        "canadian_elections_text_cleaned['text'] = canadian_elections_text_cleaned['text'].apply(remove_URL)\n",
        "canadian_elections_text_cleaned['text'] = canadian_elections_text_cleaned['text'].apply(remove_mentions)\n",
        "canadian_elections_text_cleaned['text'] = canadian_elections_text_cleaned['text'].apply(remove_spaces)\n",
        "# remove words that starts with x (unicode)\n",
        "canadian_elections_text_cleaned['text'] = canadian_elections_text_cleaned['text'].str.replace(r\"\\bx\\w+\", '')"
      ],
      "execution_count": 0,
      "outputs": []
    },
    {
      "cell_type": "code",
      "metadata": {
        "colab_type": "code",
        "id": "Yx9ayD4f3Asi",
        "colab": {}
      },
      "source": [
        "# remove misc items\n",
        "canadian_elections_text_cleaned = canadian_elections_text_cleaned.replace('-', '', regex=True)\n",
        "canadian_elections_text_cleaned = canadian_elections_text_cleaned.replace('b\"', '', regex=True)\n",
        "canadian_elections_text_cleaned = canadian_elections_text_cleaned.replace(\"b'\",\"\", regex=True)\n",
        "canadian_elections_text_cleaned = canadian_elections_text_cleaned.replace(r'\\\\', '', regex=True)\n",
        "canadian_elections_text_cleaned = canadian_elections_text_cleaned.replace(r\"\\\\\", \"\", regex=True)\n",
        "canadian_elections_text_cleaned = canadian_elections_text_cleaned.replace(r\"\\'s\", \"s\", regex=True)\n",
        "canadian_elections_text_cleaned = canadian_elections_text_cleaned.replace(r\"\\'\", \"\", regex=True)\n",
        "canadian_elections_text_cleaned = canadian_elections_text_cleaned.replace('|', '', regex=True)\n",
        "# get rid of \\n (new lines)\n",
        "for i in range(len(canadian_elections_text_cleaned)):\n",
        "    canadian_elections_text_cleaned.text.loc[i] = canadian_elections_text_cleaned.text.loc[i].replace(r'\\n', ' ')"
      ],
      "execution_count": 0,
      "outputs": []
    },
    {
      "cell_type": "code",
      "metadata": {
        "colab_type": "code",
        "id": "oXmx7Oft4E0B",
        "outputId": "8fd5a6ab-95b3-4d12-893a-bdb3da21ee52",
        "colab": {
          "base_uri": "https://localhost:8080/"
        }
      },
      "source": [
        "canadian_elections_text_cleaned.head()"
      ],
      "execution_count": 0,
      "outputs": [
        {
          "output_type": "execute_result",
          "data": {
            "text/html": [
              "<div>\n",
              "<style scoped>\n",
              "    .dataframe tbody tr th:only-of-type {\n",
              "        vertical-align: middle;\n",
              "    }\n",
              "\n",
              "    .dataframe tbody tr th {\n",
              "        vertical-align: top;\n",
              "    }\n",
              "\n",
              "    .dataframe thead th {\n",
              "        text-align: right;\n",
              "    }\n",
              "</style>\n",
              "<table border=\"1\" class=\"dataframe\">\n",
              "  <thead>\n",
              "    <tr style=\"text-align: right;\">\n",
              "      <th></th>\n",
              "      <th>text</th>\n",
              "    </tr>\n",
              "  </thead>\n",
              "  <tbody>\n",
              "    <tr>\n",
              "      <th>0</th>\n",
              "      <td>so instead of your suggestion, how about we a...</td>\n",
              "    </tr>\n",
              "    <tr>\n",
              "      <th>1</th>\n",
              "      <td>#allwomanspacewalk its real!n n#etobicokenorth...</td>\n",
              "    </tr>\n",
              "    <tr>\n",
              "      <th>2</th>\n",
              "      <td>#brantford its going to cost you $94 billion f...</td>\n",
              "    </tr>\n",
              "    <tr>\n",
              "      <th>3</th>\n",
              "      <td>#canada #canadaelection2019 #canadavotes n#elx...</td>\n",
              "    </tr>\n",
              "    <tr>\n",
              "      <th>4</th>\n",
              "      <td>#canada #taxpayers are sick &amp; tired of having ...</td>\n",
              "    </tr>\n",
              "  </tbody>\n",
              "</table>\n",
              "</div>"
            ],
            "text/plain": [
              "                                                text\n",
              "0   so instead of your suggestion, how about we a...\n",
              "1  #allwomanspacewalk its real!n n#etobicokenorth...\n",
              "2  #brantford its going to cost you $94 billion f...\n",
              "3  #canada #canadaelection2019 #canadavotes n#elx...\n",
              "4  #canada #taxpayers are sick & tired of having ..."
            ]
          },
          "metadata": {
            "tags": []
          },
          "execution_count": 22
        }
      ]
    },
    {
      "cell_type": "code",
      "metadata": {
        "colab_type": "code",
        "id": "fTRcSF-T4mP8",
        "outputId": "f4b27194-bc9e-448b-b007-5e6ec507189c",
        "colab": {
          "base_uri": "https://localhost:8080/"
        }
      },
      "source": [
        "# concatenate regular text with cleaned_text\n",
        "canadian_elections_text_cleaned.columns = ['cleaned_text']\n",
        "canadian_elections_final = pd.concat([canadian_elections, canadian_elections_text_cleaned], axis=1)\n",
        "canadian_elections_final.head()"
      ],
      "execution_count": 0,
      "outputs": [
        {
          "output_type": "execute_result",
          "data": {
            "text/html": [
              "<div>\n",
              "<style scoped>\n",
              "    .dataframe tbody tr th:only-of-type {\n",
              "        vertical-align: middle;\n",
              "    }\n",
              "\n",
              "    .dataframe tbody tr th {\n",
              "        vertical-align: top;\n",
              "    }\n",
              "\n",
              "    .dataframe thead th {\n",
              "        text-align: right;\n",
              "    }\n",
              "</style>\n",
              "<table border=\"1\" class=\"dataframe\">\n",
              "  <thead>\n",
              "    <tr style=\"text-align: right;\">\n",
              "      <th></th>\n",
              "      <th>sentiment</th>\n",
              "      <th>negative_reason</th>\n",
              "      <th>text</th>\n",
              "      <th>cleaned_text</th>\n",
              "    </tr>\n",
              "  </thead>\n",
              "  <tbody>\n",
              "    <tr>\n",
              "      <th>0</th>\n",
              "      <td>Negative</td>\n",
              "      <td>Women Reproductive right and Racism</td>\n",
              "      <td>b\"@RosieBarton So instead of your suggestion, ...</td>\n",
              "      <td>so instead of your suggestion, how about we a...</td>\n",
              "    </tr>\n",
              "    <tr>\n",
              "      <th>1</th>\n",
              "      <td>Positive</td>\n",
              "      <td>NaN</td>\n",
              "      <td>b\"#AllWomanSpacewalk it's real!\\n@Space_Statio...</td>\n",
              "      <td>#allwomanspacewalk its real!n n#etobicokenorth...</td>\n",
              "    </tr>\n",
              "    <tr>\n",
              "      <th>2</th>\n",
              "      <td>Negative</td>\n",
              "      <td>Economy</td>\n",
              "      <td>b\"#Brantford It's going to cost YOU $94 BILLIO...</td>\n",
              "      <td>#brantford its going to cost you $94 billion f...</td>\n",
              "    </tr>\n",
              "    <tr>\n",
              "      <th>3</th>\n",
              "      <td>Positive</td>\n",
              "      <td>NaN</td>\n",
              "      <td>b\"#Canada #CanadaElection2019 #CanadaVotes \\n#...</td>\n",
              "      <td>#canada #canadaelection2019 #canadavotes n#elx...</td>\n",
              "    </tr>\n",
              "    <tr>\n",
              "      <th>4</th>\n",
              "      <td>Negative</td>\n",
              "      <td>Economy</td>\n",
              "      <td>b\"#Canada #taxpayers are sick &amp;amp; tired of h...</td>\n",
              "      <td>#canada #taxpayers are sick &amp; tired of having ...</td>\n",
              "    </tr>\n",
              "  </tbody>\n",
              "</table>\n",
              "</div>"
            ],
            "text/plain": [
              "  sentiment                      negative_reason  \\\n",
              "0  Negative  Women Reproductive right and Racism   \n",
              "1  Positive                                  NaN   \n",
              "2  Negative                              Economy   \n",
              "3  Positive                                  NaN   \n",
              "4  Negative                              Economy   \n",
              "\n",
              "                                                text  \\\n",
              "0  b\"@RosieBarton So instead of your suggestion, ...   \n",
              "1  b\"#AllWomanSpacewalk it's real!\\n@Space_Statio...   \n",
              "2  b\"#Brantford It's going to cost YOU $94 BILLIO...   \n",
              "3  b\"#Canada #CanadaElection2019 #CanadaVotes \\n#...   \n",
              "4  b\"#Canada #taxpayers are sick &amp; tired of h...   \n",
              "\n",
              "                                        cleaned_text  \n",
              "0   so instead of your suggestion, how about we a...  \n",
              "1  #allwomanspacewalk its real!n n#etobicokenorth...  \n",
              "2  #brantford its going to cost you $94 billion f...  \n",
              "3  #canada #canadaelection2019 #canadavotes n#elx...  \n",
              "4  #canada #taxpayers are sick & tired of having ...  "
            ]
          },
          "metadata": {
            "tags": []
          },
          "execution_count": 23
        }
      ]
    },
    {
      "cell_type": "markdown",
      "metadata": {
        "colab_type": "text",
        "id": "fIyLBy454MaT"
      },
      "source": [
        "### Remove stopwords and perform Lemmatising"
      ]
    },
    {
      "cell_type": "code",
      "metadata": {
        "colab_type": "code",
        "id": "OKZpwnvb4RAx",
        "outputId": "047c4933-f048-4acc-b380-d02d84a6a6dd",
        "colab": {
          "base_uri": "https://localhost:8080/"
        }
      },
      "source": [
        "# nltk stopwords list\n",
        "nltk.download('stopwords')\n",
        "stop_words = set(stopwords.words('english'))\n",
        "\n",
        "canadian_elections_final['tweets_without_stopwords'] = canadian_elections_final['cleaned_text'].apply(lambda x: ' '.join([word for word in x.split() if word not in (stop_words)]))"
      ],
      "execution_count": 0,
      "outputs": [
        {
          "output_type": "stream",
          "text": [
            "[nltk_data] Downloading package stopwords to\n",
            "[nltk_data]     C:\\Users\\Jayde\\AppData\\Roaming\\nltk_data...\n",
            "[nltk_data]   Package stopwords is already up-to-date!\n"
          ],
          "name": "stderr"
        }
      ]
    },
    {
      "cell_type": "code",
      "metadata": {
        "colab_type": "code",
        "id": "CfCqVtJp5VE8",
        "outputId": "6a5f6430-1b31-47f0-d7b0-454515d7dbcc",
        "colab": {
          "base_uri": "https://localhost:8080/"
        }
      },
      "source": [
        "from nltk.stem import WordNetLemmatizer\n",
        "nltk.download('wordnet')\n",
        "#nltk.download('punkt')\n",
        "lemmatizer = WordNetLemmatizer()\n",
        "\n",
        "def lemmatising (text):\n",
        "\n",
        "    words_in_each_tweet = word_tokenize(text)\n",
        "    final = [lemmatizer.lemmatize(word) for word in words_in_each_tweet]\n",
        "    stemmed_string = ' '.join(final)\n",
        "    return stemmed_string"
      ],
      "execution_count": 0,
      "outputs": [
        {
          "output_type": "stream",
          "text": [
            "[nltk_data] Downloading package wordnet to\n",
            "[nltk_data]     C:\\Users\\Jayde\\AppData\\Roaming\\nltk_data...\n",
            "[nltk_data]   Package wordnet is already up-to-date!\n"
          ],
          "name": "stderr"
        }
      ]
    },
    {
      "cell_type": "code",
      "metadata": {
        "colab_type": "code",
        "id": "weMCJaNg5dnR",
        "outputId": "370cd70e-6700-44d3-b661-d1b4be0549cc",
        "colab": {
          "base_uri": "https://localhost:8080/"
        }
      },
      "source": [
        "canadian_elections_final['tweets_with_lemmer'] = canadian_elections_final['tweets_without_stopwords'].apply(lemmatising)\n",
        "canadian_elections_final.head()"
      ],
      "execution_count": 0,
      "outputs": [
        {
          "output_type": "execute_result",
          "data": {
            "text/html": [
              "<div>\n",
              "<style scoped>\n",
              "    .dataframe tbody tr th:only-of-type {\n",
              "        vertical-align: middle;\n",
              "    }\n",
              "\n",
              "    .dataframe tbody tr th {\n",
              "        vertical-align: top;\n",
              "    }\n",
              "\n",
              "    .dataframe thead th {\n",
              "        text-align: right;\n",
              "    }\n",
              "</style>\n",
              "<table border=\"1\" class=\"dataframe\">\n",
              "  <thead>\n",
              "    <tr style=\"text-align: right;\">\n",
              "      <th></th>\n",
              "      <th>sentiment</th>\n",
              "      <th>negative_reason</th>\n",
              "      <th>text</th>\n",
              "      <th>cleaned_text</th>\n",
              "      <th>tweets_without_stopwords</th>\n",
              "      <th>tweets_with_lemmer</th>\n",
              "    </tr>\n",
              "  </thead>\n",
              "  <tbody>\n",
              "    <tr>\n",
              "      <th>0</th>\n",
              "      <td>Negative</td>\n",
              "      <td>Women Reproductive right and Racism</td>\n",
              "      <td>b\"@RosieBarton So instead of your suggestion, ...</td>\n",
              "      <td>so instead of your suggestion, how about we a...</td>\n",
              "      <td>instead suggestion, agree #canadian #women tru...</td>\n",
              "      <td>instead suggestion , agree # canadian # woman ...</td>\n",
              "    </tr>\n",
              "    <tr>\n",
              "      <th>1</th>\n",
              "      <td>Positive</td>\n",
              "      <td>NaN</td>\n",
              "      <td>b\"#AllWomanSpacewalk it's real!\\n@Space_Statio...</td>\n",
              "      <td>#allwomanspacewalk its real!n n#etobicokenorth...</td>\n",
              "      <td>#allwomanspacewalk real!n n#etobicokenorth #ci...</td>\n",
              "      <td># allwomanspacewalk real ! n n # etobicokenort...</td>\n",
              "    </tr>\n",
              "    <tr>\n",
              "      <th>2</th>\n",
              "      <td>Negative</td>\n",
              "      <td>Economy</td>\n",
              "      <td>b\"#Brantford It's going to cost YOU $94 BILLIO...</td>\n",
              "      <td>#brantford its going to cost you $94 billion f...</td>\n",
              "      <td>#brantford going cost $94 billion next 4 years...</td>\n",
              "      <td># brantford going cost $ 94 billion next 4 yea...</td>\n",
              "    </tr>\n",
              "    <tr>\n",
              "      <th>3</th>\n",
              "      <td>Positive</td>\n",
              "      <td>NaN</td>\n",
              "      <td>b\"#Canada #CanadaElection2019 #CanadaVotes \\n#...</td>\n",
              "      <td>#canada #canadaelection2019 #canadavotes n#elx...</td>\n",
              "      <td>#canada #canadaelection2019 #canadavotes n#elx...</td>\n",
              "      <td># canada # canadaelection2019 # canadavotes n ...</td>\n",
              "    </tr>\n",
              "    <tr>\n",
              "      <th>4</th>\n",
              "      <td>Negative</td>\n",
              "      <td>Economy</td>\n",
              "      <td>b\"#Canada #taxpayers are sick &amp;amp; tired of h...</td>\n",
              "      <td>#canada #taxpayers are sick &amp; tired of having ...</td>\n",
              "      <td>#canada #taxpayers sick &amp; tired hard earned $ ...</td>\n",
              "      <td># canada # taxpayer sick &amp; tired hard earned $...</td>\n",
              "    </tr>\n",
              "  </tbody>\n",
              "</table>\n",
              "</div>"
            ],
            "text/plain": [
              "  sentiment                      negative_reason  \\\n",
              "0  Negative  Women Reproductive right and Racism   \n",
              "1  Positive                                  NaN   \n",
              "2  Negative                              Economy   \n",
              "3  Positive                                  NaN   \n",
              "4  Negative                              Economy   \n",
              "\n",
              "                                                text  \\\n",
              "0  b\"@RosieBarton So instead of your suggestion, ...   \n",
              "1  b\"#AllWomanSpacewalk it's real!\\n@Space_Statio...   \n",
              "2  b\"#Brantford It's going to cost YOU $94 BILLIO...   \n",
              "3  b\"#Canada #CanadaElection2019 #CanadaVotes \\n#...   \n",
              "4  b\"#Canada #taxpayers are sick &amp; tired of h...   \n",
              "\n",
              "                                        cleaned_text  \\\n",
              "0   so instead of your suggestion, how about we a...   \n",
              "1  #allwomanspacewalk its real!n n#etobicokenorth...   \n",
              "2  #brantford its going to cost you $94 billion f...   \n",
              "3  #canada #canadaelection2019 #canadavotes n#elx...   \n",
              "4  #canada #taxpayers are sick & tired of having ...   \n",
              "\n",
              "                            tweets_without_stopwords  \\\n",
              "0  instead suggestion, agree #canadian #women tru...   \n",
              "1  #allwomanspacewalk real!n n#etobicokenorth #ci...   \n",
              "2  #brantford going cost $94 billion next 4 years...   \n",
              "3  #canada #canadaelection2019 #canadavotes n#elx...   \n",
              "4  #canada #taxpayers sick & tired hard earned $ ...   \n",
              "\n",
              "                                  tweets_with_lemmer  \n",
              "0  instead suggestion , agree # canadian # woman ...  \n",
              "1  # allwomanspacewalk real ! n n # etobicokenort...  \n",
              "2  # brantford going cost $ 94 billion next 4 yea...  \n",
              "3  # canada # canadaelection2019 # canadavotes n ...  \n",
              "4  # canada # taxpayer sick & tired hard earned $...  "
            ]
          },
          "metadata": {
            "tags": []
          },
          "execution_count": 26
        }
      ]
    },
    {
      "cell_type": "code",
      "metadata": {
        "colab_type": "code",
        "id": "YP4ktBw8mLFQ",
        "outputId": "a593aa41-9a36-4e37-e2ef-6179c106b8cd",
        "colab": {
          "base_uri": "https://localhost:8080/"
        }
      },
      "source": [
        "canadian_elections_final['tweets_with_lemmer'].isnull().sum()"
      ],
      "execution_count": 0,
      "outputs": [
        {
          "output_type": "execute_result",
          "data": {
            "text/plain": [
              "0"
            ]
          },
          "metadata": {
            "tags": []
          },
          "execution_count": 27
        }
      ]
    },
    {
      "cell_type": "markdown",
      "metadata": {
        "colab_type": "text",
        "id": "JVs4xrfMmsGT"
      },
      "source": [
        "It appears that we do not have any empty tweet in this dataset.\n",
        "\n",
        "I concluded that the data cleaning part was completed."
      ]
    },
    {
      "cell_type": "markdown",
      "metadata": {
        "colab_type": "text",
        "id": "r7TeM7j56Ftp"
      },
      "source": [
        "# Exploratory Analysis"
      ]
    },
    {
      "cell_type": "markdown",
      "metadata": {
        "colab_type": "text",
        "id": "r7_UNmJsUNXK"
      },
      "source": [
        "In this section, a simple procedure is designed to assign a political party label to each of the tweets. The political parties considered are Liberal, Conservative, NDP and None. \n",
        "\n",
        "Furthermore, this section also presents Exploratory Data Analysis (EDA) on both of the datasets (generic tweets and canadian election tweets)."
      ]
    },
    {
      "cell_type": "markdown",
      "metadata": {
        "colab_type": "text",
        "id": "VVXQ-iT4plWP"
      },
      "source": [
        "## Hashtags"
      ]
    },
    {
      "cell_type": "markdown",
      "metadata": {
        "colab_type": "text",
        "id": "gQ54i1NJUDDG"
      },
      "source": [
        "Firstly, in order to assign a political party label to each one of tweet, we need to get some keywords from hashtag.\n",
        "\n",
        "The code below extracts hashtags from each of the tweet and shows the top 30 most popular hashtags from the canadian election tweets. Based on the results, it seems that the top 3 most popular ones are \"elxn43\", \"cdnpoli\" and \"chooseforward\"."
      ]
    },
    {
      "cell_type": "code",
      "metadata": {
        "colab_type": "code",
        "id": "02qNJs8Dpny1",
        "colab": {}
      },
      "source": [
        "# create a list of lists, where each sublist holds the hashtags used for that tweet\n",
        "hashtag_list = []\n",
        "for i in range(canadian_elections_final.shape[0]):\n",
        "    tweet = canadian_elections_final['cleaned_text'].loc[i]\n",
        "    hashtags = re.findall(r\"#(\\w+)\", tweet)\n",
        "    hashtag_list.append(hashtags)\n",
        "# create a flattened list of hashtags used\n",
        "hashtag_list_flat  = [val for sublist in hashtag_list for val in sublist]\n",
        "\n",
        "# convert flattened hashtag list to dataframe\n",
        "hashtag_df = pd.DataFrame({'hashtags':hashtag_list_flat})"
      ],
      "execution_count": 0,
      "outputs": []
    },
    {
      "cell_type": "code",
      "metadata": {
        "colab_type": "code",
        "id": "EtjGsbbKrLFN",
        "outputId": "aabd08a6-6c7f-4f5b-c216-a42c2a7b90ea",
        "colab": {
          "base_uri": "https://localhost:8080/"
        }
      },
      "source": [
        "# the top 30 most used hastags\n",
        "hashtag_df.hashtags.value_counts().nlargest(30)"
      ],
      "execution_count": 0,
      "outputs": [
        {
          "output_type": "execute_result",
          "data": {
            "text/plain": [
              "elxn43             2060\n",
              "cdnpoli            1132\n",
              "chooseforward       158\n",
              "cpc                  78\n",
              "trudeaumustgo        75\n",
              "cdnelxn2019          66\n",
              "kinsellagate         63\n",
              "elxn2019             62\n",
              "canada               58\n",
              "uprisingh            49\n",
              "ndp                  44\n",
              "abpoli               42\n",
              "onpoli               40\n",
              "polcan               39\n",
              "scheerlies           39\n",
              "elxn43n              37\n",
              "cdnmedia             36\n",
              "bcpoli               36\n",
              "canadavotes2019      35\n",
              "itsourvote           33\n",
              "ableg                32\n",
              "canadavotes          30\n",
              "ppc2019              28\n",
              "cndpoli              27\n",
              "skpoli               26\n",
              "ppc                  24\n",
              "scheerdisaster       23\n",
              "lpc                  23\n",
              "canpoli              23\n",
              "andrewscheer         22\n",
              "Name: hashtags, dtype: int64"
            ]
          },
          "metadata": {
            "tags": []
          },
          "execution_count": 29
        }
      ]
    },
    {
      "cell_type": "markdown",
      "metadata": {
        "colab_type": "text",
        "id": "QddVgkZAy6Kg"
      },
      "source": [
        "## Procedure for determining the political party"
      ]
    },
    {
      "cell_type": "markdown",
      "metadata": {
        "colab_type": "text",
        "id": "uMX6neO8Uzxd"
      },
      "source": [
        "In this section, a simple procedure was designed to assign political parties to each tweet based on keywords as well as the hashtags found from previous code segments. \n",
        "\n",
        "\n",
        "*   Conservative\n",
        "*   Liberal\n",
        "*   NDP\n",
        "*   None\n",
        "\n",
        "\n",
        "\n",
        "\n",
        "\n"
      ]
    },
    {
      "cell_type": "code",
      "metadata": {
        "colab_type": "code",
        "id": "QeSJr7QyzBmo",
        "colab": {}
      },
      "source": [
        "# keywords/hashtags that represent each party\n",
        "conservative_party = ['conserv','con','andrew', 'scheer', 'AndrewScheer', 'conservative', 'conservatives', 'cpc_hq', 'cpc', 'ford']\n",
        "liberal_party = ['liber','lib','justin', 'trudeau', 'JustinTrudeau', 'liberal', 'liberals', 'timlouis', 'chooseforward', 'chooseforwardwithtrudeau', 'teamtrudeau', 'votingliberal']\n",
        "NDP_party = ['jagmeet', 'singh', 'theJagmeetSingh', 'uprisingh', 'ndp']"
      ],
      "execution_count": 0,
      "outputs": []
    },
    {
      "cell_type": "code",
      "metadata": {
        "colab_type": "code",
        "id": "GNuxL1yT2SZR",
        "colab": {}
      },
      "source": [
        "# create dataframe that holds keywords/hashtags for each party\n",
        "conservative = canadian_elections_final[canadian_elections_final['cleaned_text'].str.contains('|'.join(conservative_party))]\n",
        "liberal = canadian_elections_final[canadian_elections_final['cleaned_text'].str.contains('|'.join(liberal_party))]\n",
        "NDP = canadian_elections_final[canadian_elections_final['cleaned_text'].str.contains('|'.join(NDP_party))]"
      ],
      "execution_count": 0,
      "outputs": []
    },
    {
      "cell_type": "code",
      "metadata": {
        "colab_type": "code",
        "id": "sNJP-Tfh5lb-",
        "colab": {}
      },
      "source": [
        "# create a new column\n",
        "canadian_elections_final['Party'] = ''\n",
        "\n",
        "# fill the party column with the respective parties\n",
        "for index in (liberal.index.tolist()):\n",
        "        canadian_elections_final['Party'].loc[index] = 'Liberal'\n",
        "for index in (conservative.index.tolist()):\n",
        "        canadian_elections_final['Party'].loc[index] = 'Conservative'\n",
        "for index in (NDP.index.tolist()):\n",
        "        canadian_elections_final['Party'].loc[index] = 'NDP'\n",
        "\n",
        "        \n",
        "# fill all the unassigned Party values with None\n",
        "canadian_elections_final.Party.replace(\"\", \"None\", inplace=True)"
      ],
      "execution_count": 0,
      "outputs": []
    },
    {
      "cell_type": "markdown",
      "metadata": {
        "colab_type": "text",
        "id": "JHt2-REHVRok"
      },
      "source": [
        "As we can see the distributions below, half the election tweets were assigned \"None\". Conservative party (734) was ranked in second place followed by the rest three parties."
      ]
    },
    {
      "cell_type": "code",
      "metadata": {
        "colab_type": "code",
        "id": "iVxl_s-e6sqp",
        "outputId": "d03c7c7f-3f02-4bf9-b418-bf38ac44b7b7",
        "colab": {
          "base_uri": "https://localhost:8080/"
        }
      },
      "source": [
        "canadian_elections_final['Party'].value_counts()"
      ],
      "execution_count": 0,
      "outputs": [
        {
          "output_type": "execute_result",
          "data": {
            "text/plain": [
              "None            900\n",
              "Conservative    734\n",
              "Liberal         293\n",
              "NDP             206\n",
              "Name: Party, dtype: int64"
            ]
          },
          "metadata": {
            "tags": []
          },
          "execution_count": 33
        }
      ]
    },
    {
      "cell_type": "markdown",
      "metadata": {
        "colab_type": "text",
        "id": "hXbLImLp7ITk"
      },
      "source": [
        "## Visualization"
      ]
    },
    {
      "cell_type": "markdown",
      "metadata": {
        "colab_type": "text",
        "id": "qDABEutVVxgJ"
      },
      "source": [
        "In this section, some figures are shown to visualize the two datasets. \n",
        "\n",
        "- Word Clouds (Both Dataset)\n",
        "- Three parties count (Election data)\n",
        "- Sentiment count for each party (Election data)\n",
        "- Negative reason Distribution visulize(Election data)"
      ]
    },
    {
      "cell_type": "markdown",
      "metadata": {
        "colab_type": "text",
        "id": "ZHaMtuClCxVg"
      },
      "source": [
        "### **Bonus**:Number of tweets for each Party"
      ]
    },
    {
      "cell_type": "markdown",
      "metadata": {
        "colab_type": "text",
        "id": "n8wcW8iVCTkA"
      },
      "source": [
        "The plot below shows that the majority of the tweets (nearly 50%) do not have an associated label (None) while Liberal and Conservative's are the second and third most popular, respectively. The NDP and PPC parties combine for roughly 28% of the data. \n",
        "\n",
        "It is important to note that this result is based on the simple procedure designed in previous section; therefore, it is not an accurate representation of the actual landscape of the political party's mentions on Twitter."
      ]
    },
    {
      "cell_type": "code",
      "metadata": {
        "colab_type": "code",
        "id": "B4P9hJLT8j7n",
        "outputId": "6aea019a-467e-41a4-f803-ccc816326bfe",
        "colab": {
          "base_uri": "https://localhost:8080/"
        }
      },
      "source": [
        "# Create two subplots and unpack the output array immediately\n",
        "fig, (ax1, ax2) = plt.subplots(1, 2, figsize = (12,7))\n",
        "fig.suptitle('Party counts/percentage of Canadian Elections Data', fontsize=16,y=1.15)\n",
        "fig.tight_layout(pad = 21)\n",
        "ax1.bar(canadian_elections_final['Party'].unique(),canadian_elections_final['Party'].value_counts(),)\n",
        "ax1.set_title('Each Party counts')\n",
        "ax1.set_xticklabels(canadian_elections_final['Party'].unique(), rotation=90 )\n",
        "ax1.set_xlabel('parties')\n",
        "ax1.set_ylabel('count')\n",
        "ax2.bar(canadian_elections_final['Party'].unique(),canadian_elections_final['Party'].value_counts(normalize=True))\n",
        "ax2.set_xticklabels(canadian_elections_final['Party'].unique(), rotation=90 )\n",
        "ax2.set_title('Each Party Percentage(normalized)')\n",
        "ax2.set_xlabel('parties')\n",
        "ax2.set_ylabel('percentage')\n",
        "\n",
        "plt.tight_layout(pad=0.0001)\n",
        "plt.show()"
      ],
      "execution_count": 0,
      "outputs": [
        {
          "output_type": "display_data",
          "data": {
            "image/png": "[encoded data removed]",
            "text/plain": [
              "<Figure size 864x504 with 2 Axes>"
            ]
          },
          "metadata": {
            "tags": [],
            "needs_background": "light"
          }
        }
      ]
    },
    {
      "cell_type": "markdown",
      "metadata": {
        "colab_type": "text",
        "id": "qNXGsfkaH37Q"
      },
      "source": [
        "### Word Clouds for both datasets"
      ]
    },
    {
      "cell_type": "code",
      "metadata": {
        "colab_type": "code",
        "id": "3iAYVYv7H-Wj",
        "outputId": "2538b96a-4b0a-4417-fda8-4d4a9acfaa12",
        "colab": {
          "base_uri": "https://localhost:8080/"
        }
      },
      "source": [
        "# create wordcloud on the lemmtised text\n",
        "text = labeled_generic_tweet['tweets_with_lemmer'].values\n",
        "wordcloud = WordCloud(width = 5000, height = 4000, background_color=\"white\").generate(str(text))\n",
        "plt.figure(figsize=(10,10))\n",
        "plt.imshow(wordcloud, interpolation='bilinear')\n",
        "plt.axis(\"off\")\n",
        "plt.show()"
      ],
      "execution_count": 0,
      "outputs": [
        {
          "output_type": "display_data",
          "data": {
            "image/png": "[encoded data removed]",
            "text/plain": [
              "<Figure size 720x720 with 1 Axes>"
            ]
          },
          "metadata": {
            "tags": [],
            "needs_background": "light"
          }
        }
      ]
    },
    {
      "cell_type": "code",
      "metadata": {
        "colab_type": "code",
        "id": "Vi5bM7Lxmds-",
        "outputId": "4cbe30e8-a537-4e9f-ba76-7d047f1ba76a",
        "colab": {
          "base_uri": "https://localhost:8080/"
        }
      },
      "source": [
        "# create wordcloud on the lemmtised text\n",
        "text = canadian_elections_final['tweets_with_lemmer'].values\n",
        "wordcloud = WordCloud(width = 5000, height = 4000, background_color=\"white\").generate(str(text))\n",
        "plt.figure(figsize=(10,10))\n",
        "plt.imshow(wordcloud, interpolation='bilinear')\n",
        "plt.axis(\"off\")\n",
        "plt.show()"
      ],
      "execution_count": 0,
      "outputs": [
        {
          "output_type": "display_data",
          "data": {
            "image/png": "[encoded data removed]",
            "text/plain": [
              "<Figure size 720x720 with 1 Axes>"
            ]
          },
          "metadata": {
            "tags": [],
            "needs_background": "light"
          }
        }
      ]
    },
    {
      "cell_type": "markdown",
      "metadata": {
        "colab_type": "text",
        "id": "jCPotiIzF4Zh"
      },
      "source": [
        "### **Bonus**:The number of positive & negative tweets that relate each party"
      ]
    },
    {
      "cell_type": "markdown",
      "metadata": {
        "id": "f99ddb52Y_MP",
        "colab_type": "text"
      },
      "source": [
        "three parties negative tweets all more than positive tweets, 'Conservative' has highest number of etheir pos/neg tweets, and number of negative tweets nearly doubled."
      ]
    },
    {
      "cell_type": "code",
      "metadata": {
        "colab_type": "code",
        "id": "ue3gq771M9II",
        "outputId": "1adc382b-250a-467f-81a1-6996faef5805",
        "colab": {
          "base_uri": "https://localhost:8080/",
          "height": 297
        }
      },
      "source": [
        "# plot the bar chart\n",
        "fig, ax = plt.subplots()\n",
        "index = np.arange(3)\n",
        "bar_width = 0.35\n",
        "opacity = 0.8\n",
        "\n",
        "a = canadian_elections_final[canadian_elections_final['sentiment']=='Negative']\n",
        "negative_count_liberal = len(a[a['Party']=='Liberal'])\n",
        "negative_count_conservative = len(a[a['Party']=='Conservative'])\n",
        "negative_count_NDP = len(a[a['Party']=='NDP'])\n",
        "negative_count_total = [negative_count_liberal,negative_count_conservative,negative_count_NDP]\n",
        "\n",
        "\n",
        "b = canadian_elections_final[canadian_elections_final['sentiment']=='Positive']\n",
        "positive_count_liberal = len(a[a['Party']=='Liberal'])\n",
        "positive_count_conservative = len(a[a['Party']=='Conservative'])\n",
        "positive_count_NDP = len(a[a['Party']=='NDP'])\n",
        "positive_count_total = [positive_count_liberal,positive_count_conservative,positive_count_NDP]\n",
        "\n",
        "\n",
        "plt.bar(index, positive_count_total, bar_width, alpha=opacity, \n",
        "        color='#2ECC71', label='Positive tweets')\n",
        "plt.bar(index, negative_count_total, bar_width, alpha=opacity, bottom=positive_count_total,\n",
        "        color='#E74C3C', edgecolor='white', label='Negative tweets')\n",
        "\n",
        "plt.xlabel('Parties')\n",
        "plt.ylabel('Tweets number')\n",
        "plt.title('The number of positive & negative tweets for each party')\n",
        "plt.xticks(index, ('Liberal', 'Conservative', 'NDP'))\n",
        "plt.legend()\n",
        "plt.tight_layout()\n",
        "plt.show()"
      ],
      "execution_count": 0,
      "outputs": [
        {
          "output_type": "display_data",
          "data": {
            "image/png": "[encoded data removed]",
            "text/plain": [
              "<Figure size 432x288 with 1 Axes>"
            ]
          },
          "metadata": {
            "tags": [],
            "needs_background": "light"
          }
        }
      ]
    },
    {
      "cell_type": "markdown",
      "metadata": {
        "colab_type": "text",
        "id": "NzuSs72nGJ6y"
      },
      "source": [
        "### **Bonus**:pie chart for negative reason"
      ]
    },
    {
      "cell_type": "markdown",
      "metadata": {
        "id": "yLHb0UQRYb8G",
        "colab_type": "text"
      },
      "source": [
        "Here I plot the negative reasons pie chart, we can clearly see each reason take specifice portion, 'Other' takes up 36.2%, followed by 'scandal' and 'tell lies', which them are 26.8% and 19.7 %; for the rest of negative reasons all less than 10 %. "
      ]
    },
    {
      "cell_type": "code",
      "metadata": {
        "colab_type": "code",
        "id": "tM1LsjxKM_gE",
        "outputId": "c0e16610-32d4-4d70-bf4e-e870e7673987",
        "colab": {
          "base_uri": "https://localhost:8080/"
        }
      },
      "source": [
        "negative_reason_list = ['Women Reproductive right and Racism', 'Economy', 'Others',\n",
        "       'Scandal', 'Tell lies', 'Privilege', 'Climate Problem',\n",
        "       'Healthcare', 'Separation', 'Healthcare and Marijuana']\n",
        "\n",
        "sizes = []\n",
        "for reason in negative_reason_list :\n",
        "  sizes.append(canadian_elections_final[canadian_elections_final['negative_reason'] == reason].shape[0])\n",
        "\n",
        "plt.figure(figsize=(16, 12))\n",
        "plt.pie(sizes, labels=negative_reason_list, autopct='%1.1f%%', shadow=True)\n",
        "plt.title('Negative Election Tweets Reason Analysis')\n",
        "plt.axis('equal')\n",
        "plt.show()"
      ],
      "execution_count": 0,
      "outputs": [
        {
          "output_type": "display_data",
          "data": {
            "image/png": "[encoded data removed]",
            "text/plain": [
              "<Figure size 1152x864 with 1 Axes>"
            ]
          },
          "metadata": {
            "tags": []
          }
        }
      ]
    },
    {
      "cell_type": "markdown",
      "metadata": {
        "colab_type": "text",
        "id": "Tlv5K7c5Gpmb"
      },
      "source": [
        "# Model Preparation"
      ]
    },
    {
      "cell_type": "markdown",
      "metadata": {
        "colab_type": "text",
        "id": "UaYjzS9hG8RB"
      },
      "source": [
        "In this section, 7 different classification models are built with 2 different types of features. \n",
        "    \n",
        "    Models: logistic regression, k-NN, Naive Bayes, SVM, Decision Trees, Random Forest and XGBoost.\n",
        " \n",
        "The 2 different types of features are \n",
        "Bag of Words (Word Frequency) and  \n",
        "\n",
        "*   Bag of Words (Word Frequency)\n",
        "*   Term Frequency - Inverse Document Frequency(TF-IDF)\n",
        "\n",
        "The goal is to predict the sentiment label of each tweet in the generic tweet dataset."
      ]
    },
    {
      "cell_type": "markdown",
      "metadata": {
        "colab_type": "text",
        "id": "i0d66DQ1JOnu"
      },
      "source": [
        "## Count Vectorizer (Bag of Words)"
      ]
    },
    {
      "cell_type": "markdown",
      "metadata": {
        "colab_type": "text",
        "id": "nU0JTj1EJW3_"
      },
      "source": [
        "I tried to generate the bag of words (WF) matrix of the generic tweets. This technique represents a count of the respective word from a bag of words that are deemed most frequent. It assumes that the most important keywords occur more often than words that are not.\n",
        "\n",
        "To implement this, I used the countvectorizer function with a maximum feature number of 600. The higher the feature number, the more information will be retained for each tweet; however, I realised that I had to bound the feature size in order to avoid crashing and huge sparse matrix creation, so that I set my maximum features to 600 performed on the lemmitised tweets.\n",
        "\n"
      ]
    },
    {
      "cell_type": "code",
      "metadata": {
        "colab_type": "code",
        "id": "GOpjRwViLfBC",
        "colab": {}
      },
      "source": [
        "sentiment_csv_cleandata = labeled_generic_tweet['tweets_with_lemmer']"
      ],
      "execution_count": 0,
      "outputs": []
    },
    {
      "cell_type": "code",
      "metadata": {
        "colab_type": "code",
        "id": "6SXjnBAgGtlX",
        "outputId": "20212b19-c4a6-417e-d440-42ad288ccc1d",
        "colab": {
          "base_uri": "https://localhost:8080/",
          "height": 253
        }
      },
      "source": [
        "# count vectorizer to create a 1D vector for each tweet\n",
        "vectorizer = CountVectorizer(max_features = 600)\n",
        "count_vector = vectorizer.fit_transform(sentiment_csv_cleandata.values.astype('U'))\n",
        "count_array = count_vector.toarray()\n",
        "\n",
        "# encodes generic tweets\n",
        "CountVec_features = pd.DataFrame(data=count_array, columns = vectorizer.get_feature_names())\n",
        "CountVec_features.head()"
      ],
      "execution_count": 0,
      "outputs": [
        {
          "output_type": "execute_result",
          "data": {
            "text/html": [
              "<div>\n",
              "<style scoped>\n",
              "    .dataframe tbody tr th:only-of-type {\n",
              "        vertical-align: middle;\n",
              "    }\n",
              "\n",
              "    .dataframe tbody tr th {\n",
              "        vertical-align: top;\n",
              "    }\n",
              "\n",
              "    .dataframe thead th {\n",
              "        text-align: right;\n",
              "    }\n",
              "</style>\n",
              "<table border=\"1\" class=\"dataframe\">\n",
              "  <thead>\n",
              "    <tr style=\"text-align: right;\">\n",
              "      <th></th>\n",
              "      <th>able</th>\n",
              "      <th>actually</th>\n",
              "      <th>add</th>\n",
              "      <th>afternoon</th>\n",
              "      <th>ago</th>\n",
              "      <th>agree</th>\n",
              "      <th>ah</th>\n",
              "      <th>almost</th>\n",
              "      <th>alone</th>\n",
              "      <th>already</th>\n",
              "      <th>...</th>\n",
              "      <th>xx</th>\n",
              "      <th>ya</th>\n",
              "      <th>yay</th>\n",
              "      <th>yea</th>\n",
              "      <th>yeah</th>\n",
              "      <th>year</th>\n",
              "      <th>yes</th>\n",
              "      <th>yesterday</th>\n",
              "      <th>yet</th>\n",
              "      <th>yoy</th>\n",
              "    </tr>\n",
              "  </thead>\n",
              "  <tbody>\n",
              "    <tr>\n",
              "      <th>0</th>\n",
              "      <td>0</td>\n",
              "      <td>0</td>\n",
              "      <td>0</td>\n",
              "      <td>0</td>\n",
              "      <td>0</td>\n",
              "      <td>0</td>\n",
              "      <td>0</td>\n",
              "      <td>0</td>\n",
              "      <td>0</td>\n",
              "      <td>0</td>\n",
              "      <td>...</td>\n",
              "      <td>0</td>\n",
              "      <td>0</td>\n",
              "      <td>0</td>\n",
              "      <td>0</td>\n",
              "      <td>0</td>\n",
              "      <td>0</td>\n",
              "      <td>0</td>\n",
              "      <td>0</td>\n",
              "      <td>0</td>\n",
              "      <td>0</td>\n",
              "    </tr>\n",
              "    <tr>\n",
              "      <th>1</th>\n",
              "      <td>0</td>\n",
              "      <td>0</td>\n",
              "      <td>0</td>\n",
              "      <td>0</td>\n",
              "      <td>0</td>\n",
              "      <td>0</td>\n",
              "      <td>0</td>\n",
              "      <td>0</td>\n",
              "      <td>0</td>\n",
              "      <td>0</td>\n",
              "      <td>...</td>\n",
              "      <td>0</td>\n",
              "      <td>0</td>\n",
              "      <td>0</td>\n",
              "      <td>0</td>\n",
              "      <td>0</td>\n",
              "      <td>0</td>\n",
              "      <td>0</td>\n",
              "      <td>0</td>\n",
              "      <td>0</td>\n",
              "      <td>0</td>\n",
              "    </tr>\n",
              "    <tr>\n",
              "      <th>2</th>\n",
              "      <td>0</td>\n",
              "      <td>0</td>\n",
              "      <td>0</td>\n",
              "      <td>0</td>\n",
              "      <td>0</td>\n",
              "      <td>0</td>\n",
              "      <td>0</td>\n",
              "      <td>0</td>\n",
              "      <td>0</td>\n",
              "      <td>0</td>\n",
              "      <td>...</td>\n",
              "      <td>0</td>\n",
              "      <td>0</td>\n",
              "      <td>0</td>\n",
              "      <td>0</td>\n",
              "      <td>0</td>\n",
              "      <td>0</td>\n",
              "      <td>0</td>\n",
              "      <td>0</td>\n",
              "      <td>0</td>\n",
              "      <td>0</td>\n",
              "    </tr>\n",
              "    <tr>\n",
              "      <th>3</th>\n",
              "      <td>0</td>\n",
              "      <td>0</td>\n",
              "      <td>0</td>\n",
              "      <td>0</td>\n",
              "      <td>0</td>\n",
              "      <td>0</td>\n",
              "      <td>0</td>\n",
              "      <td>0</td>\n",
              "      <td>0</td>\n",
              "      <td>0</td>\n",
              "      <td>...</td>\n",
              "      <td>0</td>\n",
              "      <td>0</td>\n",
              "      <td>0</td>\n",
              "      <td>0</td>\n",
              "      <td>0</td>\n",
              "      <td>0</td>\n",
              "      <td>0</td>\n",
              "      <td>0</td>\n",
              "      <td>0</td>\n",
              "      <td>0</td>\n",
              "    </tr>\n",
              "    <tr>\n",
              "      <th>4</th>\n",
              "      <td>0</td>\n",
              "      <td>0</td>\n",
              "      <td>0</td>\n",
              "      <td>0</td>\n",
              "      <td>0</td>\n",
              "      <td>0</td>\n",
              "      <td>0</td>\n",
              "      <td>0</td>\n",
              "      <td>0</td>\n",
              "      <td>0</td>\n",
              "      <td>...</td>\n",
              "      <td>0</td>\n",
              "      <td>0</td>\n",
              "      <td>0</td>\n",
              "      <td>0</td>\n",
              "      <td>0</td>\n",
              "      <td>0</td>\n",
              "      <td>0</td>\n",
              "      <td>0</td>\n",
              "      <td>0</td>\n",
              "      <td>0</td>\n",
              "    </tr>\n",
              "  </tbody>\n",
              "</table>\n",
              "<p>5 rows × 600 columns</p>\n",
              "</div>"
            ],
            "text/plain": [
              "   able  actually  add  afternoon  ago  agree  ah  almost  alone  already  \\\n",
              "0     0         0    0          0    0      0   0       0      0        0   \n",
              "1     0         0    0          0    0      0   0       0      0        0   \n",
              "2     0         0    0          0    0      0   0       0      0        0   \n",
              "3     0         0    0          0    0      0   0       0      0        0   \n",
              "4     0         0    0          0    0      0   0       0      0        0   \n",
              "\n",
              "   ...  xx  ya  yay  yea  yeah  year  yes  yesterday  yet  yoy  \n",
              "0  ...   0   0    0    0     0     0    0          0    0    0  \n",
              "1  ...   0   0    0    0     0     0    0          0    0    0  \n",
              "2  ...   0   0    0    0     0     0    0          0    0    0  \n",
              "3  ...   0   0    0    0     0     0    0          0    0    0  \n",
              "4  ...   0   0    0    0     0     0    0          0    0    0  \n",
              "\n",
              "[5 rows x 600 columns]"
            ]
          },
          "metadata": {
            "tags": []
          },
          "execution_count": 40
        }
      ]
    },
    {
      "cell_type": "markdown",
      "metadata": {
        "colab_type": "text",
        "id": "t1e3X2MtMsKh"
      },
      "source": [
        "## TF-IDF"
      ]
    },
    {
      "cell_type": "markdown",
      "metadata": {
        "colab_type": "text",
        "id": "G1Pv6zNcMrJh"
      },
      "source": [
        "The second type of feature used is called \"Term Frequency-Inverse Document Frequency\" (TF-IDF), it is a numerical statistic that is intended to reflect how important a word is to a document in a collection or corpus. The idea here is that words that appears often are in fact not important; whereas, words that appear less frequent contribute more to the overall importance.  "
      ]
    },
    {
      "cell_type": "code",
      "metadata": {
        "colab_type": "code",
        "id": "r-dboOHxM-D3",
        "outputId": "8432e050-ea20-4400-aef5-ede79b462dd9",
        "colab": {
          "base_uri": "https://localhost:8080/",
          "height": 253
        }
      },
      "source": [
        "# tf-idf vectorizer to create a 1D vector for each tweet\n",
        "tfidf_vectorizer = TfidfVectorizer(max_features = 600,use_idf=True, smooth_idf=True, norm=None)\n",
        "tfidf_vec = tfidf_vectorizer.fit_transform(sentiment_csv_cleandata.values.astype('U'))\n",
        "tfidf_array = tfidf_vec.toarray()\n",
        "\n",
        "# encodes generic tweet\n",
        "TFIDF_features = pd.DataFrame(data=tfidf_array, columns = tfidf_vectorizer.get_feature_names())\n",
        "TFIDF_features.head()"
      ],
      "execution_count": 0,
      "outputs": [
        {
          "output_type": "execute_result",
          "data": {
            "text/html": [
              "<div>\n",
              "<style scoped>\n",
              "    .dataframe tbody tr th:only-of-type {\n",
              "        vertical-align: middle;\n",
              "    }\n",
              "\n",
              "    .dataframe tbody tr th {\n",
              "        vertical-align: top;\n",
              "    }\n",
              "\n",
              "    .dataframe thead th {\n",
              "        text-align: right;\n",
              "    }\n",
              "</style>\n",
              "<table border=\"1\" class=\"dataframe\">\n",
              "  <thead>\n",
              "    <tr style=\"text-align: right;\">\n",
              "      <th></th>\n",
              "      <th>able</th>\n",
              "      <th>actually</th>\n",
              "      <th>add</th>\n",
              "      <th>afternoon</th>\n",
              "      <th>ago</th>\n",
              "      <th>agree</th>\n",
              "      <th>ah</th>\n",
              "      <th>almost</th>\n",
              "      <th>alone</th>\n",
              "      <th>already</th>\n",
              "      <th>...</th>\n",
              "      <th>xx</th>\n",
              "      <th>ya</th>\n",
              "      <th>yay</th>\n",
              "      <th>yea</th>\n",
              "      <th>yeah</th>\n",
              "      <th>year</th>\n",
              "      <th>yes</th>\n",
              "      <th>yesterday</th>\n",
              "      <th>yet</th>\n",
              "      <th>yoy</th>\n",
              "    </tr>\n",
              "  </thead>\n",
              "  <tbody>\n",
              "    <tr>\n",
              "      <th>0</th>\n",
              "      <td>0.0</td>\n",
              "      <td>0.0</td>\n",
              "      <td>0.0</td>\n",
              "      <td>0.0</td>\n",
              "      <td>0.0</td>\n",
              "      <td>0.0</td>\n",
              "      <td>0.0</td>\n",
              "      <td>0.0</td>\n",
              "      <td>0.0</td>\n",
              "      <td>0.0</td>\n",
              "      <td>...</td>\n",
              "      <td>0.0</td>\n",
              "      <td>0.0</td>\n",
              "      <td>0.0</td>\n",
              "      <td>0.0</td>\n",
              "      <td>0.0</td>\n",
              "      <td>0.0</td>\n",
              "      <td>0.0</td>\n",
              "      <td>0.0</td>\n",
              "      <td>0.0</td>\n",
              "      <td>0.0</td>\n",
              "    </tr>\n",
              "    <tr>\n",
              "      <th>1</th>\n",
              "      <td>0.0</td>\n",
              "      <td>0.0</td>\n",
              "      <td>0.0</td>\n",
              "      <td>0.0</td>\n",
              "      <td>0.0</td>\n",
              "      <td>0.0</td>\n",
              "      <td>0.0</td>\n",
              "      <td>0.0</td>\n",
              "      <td>0.0</td>\n",
              "      <td>0.0</td>\n",
              "      <td>...</td>\n",
              "      <td>0.0</td>\n",
              "      <td>0.0</td>\n",
              "      <td>0.0</td>\n",
              "      <td>0.0</td>\n",
              "      <td>0.0</td>\n",
              "      <td>0.0</td>\n",
              "      <td>0.0</td>\n",
              "      <td>0.0</td>\n",
              "      <td>0.0</td>\n",
              "      <td>0.0</td>\n",
              "    </tr>\n",
              "    <tr>\n",
              "      <th>2</th>\n",
              "      <td>0.0</td>\n",
              "      <td>0.0</td>\n",
              "      <td>0.0</td>\n",
              "      <td>0.0</td>\n",
              "      <td>0.0</td>\n",
              "      <td>0.0</td>\n",
              "      <td>0.0</td>\n",
              "      <td>0.0</td>\n",
              "      <td>0.0</td>\n",
              "      <td>0.0</td>\n",
              "      <td>...</td>\n",
              "      <td>0.0</td>\n",
              "      <td>0.0</td>\n",
              "      <td>0.0</td>\n",
              "      <td>0.0</td>\n",
              "      <td>0.0</td>\n",
              "      <td>0.0</td>\n",
              "      <td>0.0</td>\n",
              "      <td>0.0</td>\n",
              "      <td>0.0</td>\n",
              "      <td>0.0</td>\n",
              "    </tr>\n",
              "    <tr>\n",
              "      <th>3</th>\n",
              "      <td>0.0</td>\n",
              "      <td>0.0</td>\n",
              "      <td>0.0</td>\n",
              "      <td>0.0</td>\n",
              "      <td>0.0</td>\n",
              "      <td>0.0</td>\n",
              "      <td>0.0</td>\n",
              "      <td>0.0</td>\n",
              "      <td>0.0</td>\n",
              "      <td>0.0</td>\n",
              "      <td>...</td>\n",
              "      <td>0.0</td>\n",
              "      <td>0.0</td>\n",
              "      <td>0.0</td>\n",
              "      <td>0.0</td>\n",
              "      <td>0.0</td>\n",
              "      <td>0.0</td>\n",
              "      <td>0.0</td>\n",
              "      <td>0.0</td>\n",
              "      <td>0.0</td>\n",
              "      <td>0.0</td>\n",
              "    </tr>\n",
              "    <tr>\n",
              "      <th>4</th>\n",
              "      <td>0.0</td>\n",
              "      <td>0.0</td>\n",
              "      <td>0.0</td>\n",
              "      <td>0.0</td>\n",
              "      <td>0.0</td>\n",
              "      <td>0.0</td>\n",
              "      <td>0.0</td>\n",
              "      <td>0.0</td>\n",
              "      <td>0.0</td>\n",
              "      <td>0.0</td>\n",
              "      <td>...</td>\n",
              "      <td>0.0</td>\n",
              "      <td>0.0</td>\n",
              "      <td>0.0</td>\n",
              "      <td>0.0</td>\n",
              "      <td>0.0</td>\n",
              "      <td>0.0</td>\n",
              "      <td>0.0</td>\n",
              "      <td>0.0</td>\n",
              "      <td>0.0</td>\n",
              "      <td>0.0</td>\n",
              "    </tr>\n",
              "  </tbody>\n",
              "</table>\n",
              "<p>5 rows × 600 columns</p>\n",
              "</div>"
            ],
            "text/plain": [
              "   able  actually  add  afternoon  ago  agree   ah  almost  alone  already  \\\n",
              "0   0.0       0.0  0.0        0.0  0.0    0.0  0.0     0.0    0.0      0.0   \n",
              "1   0.0       0.0  0.0        0.0  0.0    0.0  0.0     0.0    0.0      0.0   \n",
              "2   0.0       0.0  0.0        0.0  0.0    0.0  0.0     0.0    0.0      0.0   \n",
              "3   0.0       0.0  0.0        0.0  0.0    0.0  0.0     0.0    0.0      0.0   \n",
              "4   0.0       0.0  0.0        0.0  0.0    0.0  0.0     0.0    0.0      0.0   \n",
              "\n",
              "   ...   xx   ya  yay  yea  yeah  year  yes  yesterday  yet  yoy  \n",
              "0  ...  0.0  0.0  0.0  0.0   0.0   0.0  0.0        0.0  0.0  0.0  \n",
              "1  ...  0.0  0.0  0.0  0.0   0.0   0.0  0.0        0.0  0.0  0.0  \n",
              "2  ...  0.0  0.0  0.0  0.0   0.0   0.0  0.0        0.0  0.0  0.0  \n",
              "3  ...  0.0  0.0  0.0  0.0   0.0   0.0  0.0        0.0  0.0  0.0  \n",
              "4  ...  0.0  0.0  0.0  0.0   0.0   0.0  0.0        0.0  0.0  0.0  \n",
              "\n",
              "[5 rows x 600 columns]"
            ]
          },
          "metadata": {
            "tags": []
          },
          "execution_count": 41
        }
      ]
    },
    {
      "cell_type": "markdown",
      "metadata": {
        "colab_type": "text",
        "id": "u3SJ-495N3Ud"
      },
      "source": [
        "## Preparing Testing and Training Data "
      ]
    },
    {
      "cell_type": "markdown",
      "metadata": {
        "colab_type": "text",
        "id": "IJx1ejIHOF1S"
      },
      "source": [
        "Split both the datasets above into testing set (30%) and training set. (70%)"
      ]
    },
    {
      "cell_type": "code",
      "metadata": {
        "colab_type": "code",
        "id": "WUB1C9adZonq",
        "outputId": "2bbb16c5-ae55-40dc-f562-fa06bbee7b65",
        "colab": {
          "base_uri": "https://localhost:8080/",
          "height": 85
        }
      },
      "source": [
        "labeled_generic_tweet['sentiment'].value_counts()"
      ],
      "execution_count": 0,
      "outputs": [
        {
          "output_type": "execute_result",
          "data": {
            "text/plain": [
              "Negative    71428\n",
              "Positive    59241\n",
              "Neutral      3142\n",
              "Name: sentiment, dtype: int64"
            ]
          },
          "metadata": {
            "tags": []
          },
          "execution_count": 42
        }
      ]
    },
    {
      "cell_type": "code",
      "metadata": {
        "colab_type": "code",
        "id": "XtnqYwAUav2z",
        "colab": {}
      },
      "source": [
        "#concat sentiment labels with two features together\n",
        "gen_tweet_WF_features = pd.concat([labeled_generic_tweet['sentiment'], CountVec_features], axis=1)\n",
        "gen_tweet_TFIDF_features = pd.concat([labeled_generic_tweet['sentiment'], TFIDF_features], axis=1)\n",
        "#drop 'Neutral' because we only need either 'positive' or 'negative'\n",
        "gen_tweet_TFIDF_features.drop(gen_tweet_TFIDF_features[gen_tweet_TFIDF_features['sentiment'] == 'Neutral'].index,inplace=True)\n",
        "gen_tweet_WF_features.drop(gen_tweet_WF_features[gen_tweet_WF_features['sentiment'] == 'Neutral'].index,inplace=True)"
      ],
      "execution_count": 0,
      "outputs": []
    },
    {
      "cell_type": "code",
      "metadata": {
        "colab_type": "code",
        "id": "2GErcjSbOB9n",
        "colab": {}
      },
      "source": [
        "label_encoding = {\"Positive\":1,\"Negative\":0}\n",
        "gen_tweet_TFIDF_features.loc[0:,'labels'] = gen_tweet_TFIDF_features.loc[0:,'sentiment'].map(label_encoding)\n",
        "gen_tweet_TFIDF_features.drop(['sentiment'],axis=1,inplace=True)"
      ],
      "execution_count": 0,
      "outputs": []
    },
    {
      "cell_type": "code",
      "metadata": {
        "colab_type": "code",
        "id": "Qw9UkRnvg3Ij",
        "colab": {}
      },
      "source": [
        "gen_tweet_WF_features.loc[0:,'labels'] = gen_tweet_WF_features.loc[0:,'sentiment'].map(label_encoding)\n",
        "gen_tweet_WF_features.drop(['sentiment'],axis=1,inplace=True)"
      ],
      "execution_count": 0,
      "outputs": []
    },
    {
      "cell_type": "code",
      "metadata": {
        "colab_type": "code",
        "id": "QKX46wcPhL7T",
        "colab": {}
      },
      "source": [
        "# Split test (30%) and train (70%) data for Word Frequency features\n",
        "X_WF = gen_tweet_WF_features.drop(['labels'], axis=1)\n",
        "y_WF = gen_tweet_WF_features['labels']\n",
        "X_WF_train, X_WF_test, y_WF_train, y_WF_test = train_test_split(X_WF, y_WF, random_state=40, test_size=0.3)\n",
        "\n",
        "# Split test (30%) and train (70%) data for TF-IDF features\n",
        "X_tfidf = gen_tweet_TFIDF_features.drop(['labels',], axis=1)\n",
        "y_tfidf = gen_tweet_TFIDF_features['labels']\n",
        "X_tfidf_train, X_tfidf_test, y_tfidf_train, y_tfidf_test = train_test_split(X_tfidf, y_tfidf, random_state=55, test_size=0.3)"
      ],
      "execution_count": 0,
      "outputs": []
    },
    {
      "cell_type": "markdown",
      "metadata": {
        "colab_type": "text",
        "id": "nhs_TObYlLNR"
      },
      "source": [
        "# Model Implementation"
      ]
    },
    {
      "cell_type": "markdown",
      "metadata": {
        "colab_type": "text",
        "id": "rqphE4g4XY7N"
      },
      "source": [
        "Some models take a really long time to run; therefore, I have saved the trained classifier models to my local disk.\n",
        "\n",
        "**Every single model here will be implmented as its default setting, after get the best model based on accuracy score, I will tune the best model only.**"
      ]
    },
    {
      "cell_type": "code",
      "metadata": {
        "colab_type": "code",
        "id": "M-NmNqNA5PQ-",
        "colab": {}
      },
      "source": [
        "# to save the models\n",
        "import pickle"
      ],
      "execution_count": 0,
      "outputs": []
    },
    {
      "cell_type": "markdown",
      "metadata": {
        "colab_type": "text",
        "id": "0rTImTnhmt5g"
      },
      "source": [
        "## Logistic Regression Model"
      ]
    },
    {
      "cell_type": "markdown",
      "metadata": {
        "colab_type": "text",
        "id": "6HRCU60xFlxz"
      },
      "source": [
        "I implemented the Logistic Regression model for both features created before(word frequency and tf-idf), trained on the training dataset, and then applied the model to the testing dataset to obtain an accuracy value. I set n_jobs to -1 in order to run as many parallel jobs as it could, other parameters of model stay default.\n",
        "\n",
        "**Pros:**\n",
        "*   Convenient probability scores for observations\n",
        "*   Multi-collinearity is not really an issue and can be countered with L2 regularization to an extent\n",
        "*   popular classification model\n",
        "\n",
        "**Cons:**\n",
        "*   Doesn’t perform well when feature space is too large\n",
        "*   Relies on entire data\n",
        "*   Doesn’t handle large number of categorical features/variables well"
      ]
    },
    {
      "cell_type": "code",
      "metadata": {
        "colab_type": "code",
        "id": "EVcwkODFlOOY",
        "colab": {}
      },
      "source": [
        "from sklearn.linear_model import LogisticRegression"
      ],
      "execution_count": 0,
      "outputs": []
    },
    {
      "cell_type": "markdown",
      "metadata": {
        "colab_type": "text",
        "id": "pvNid5Iuny3d"
      },
      "source": [
        "### For Word Frequency Feature"
      ]
    },
    {
      "cell_type": "code",
      "metadata": {
        "colab_type": "code",
        "id": "DNKUrT-2n6g4",
        "outputId": "2d97128c-8832-4a75-bc4e-2551fba7debb",
        "colab": {
          "base_uri": "https://localhost:8080/",
          "height": 51
        }
      },
      "source": [
        "%%time\n",
        "Logistic_WF_model = LogisticRegression()\n",
        "Logistic_WF_model.fit(X_WF_train, y_WF_train)\n",
        "score_logistic_wf = Logistic_WF_model.score(X_WF_test, y_WF_test)"
      ],
      "execution_count": 0,
      "outputs": [
        {
          "output_type": "stream",
          "text": [
            "Wall time: 922 ms\n"
          ],
          "name": "stdout"
        }
      ]
    },
    {
      "cell_type": "code",
      "metadata": {
        "colab_type": "code",
        "id": "itPDB-ER5PRE",
        "colab": {}
      },
      "source": [
        "filename = 'Logistic_WF_model.sav'\n",
        "pickle.dump(Logistic_WF_model, open(filename, 'wb'))"
      ],
      "execution_count": 0,
      "outputs": []
    },
    {
      "cell_type": "code",
      "metadata": {
        "colab_type": "code",
        "id": "Gytb6bFpr0jW",
        "outputId": "f19dd22f-3d3c-4660-e08c-79d8d9bc68cb",
        "colab": {
          "base_uri": "https://localhost:8080/",
          "height": 34
        }
      },
      "source": [
        "print(\"The accuracy of logistic regression model for word frequency feature is:{}%\".format(round(score_logistic_wf*100, 5)))"
      ],
      "execution_count": 0,
      "outputs": [
        {
          "output_type": "stream",
          "text": [
            "The accuracy of logistic regression model for word frequency feature is:72.5058%\n"
          ],
          "name": "stdout"
        }
      ]
    },
    {
      "cell_type": "markdown",
      "metadata": {
        "colab_type": "text",
        "id": "M0kY8yT2s7bE"
      },
      "source": [
        "### For TF-IDF feature"
      ]
    },
    {
      "cell_type": "code",
      "metadata": {
        "colab_type": "code",
        "id": "okfxvxves_Ko",
        "outputId": "110ce5c0-5047-4fe7-ec5f-5f96254143ad",
        "colab": {
          "base_uri": "https://localhost:8080/",
          "height": 51
        }
      },
      "source": [
        "%%time\n",
        "Logistic_tfidf_model = LogisticRegression()\n",
        "Logistic_tfidf_model.fit(X_tfidf_train, y_tfidf_train)\n",
        "score_logistic_tfidf = Logistic_tfidf_model.score(X_tfidf_test, y_tfidf_test)"
      ],
      "execution_count": 0,
      "outputs": [
        {
          "output_type": "stream",
          "text": [
            "Wall time: 790 ms\n"
          ],
          "name": "stdout"
        }
      ]
    },
    {
      "cell_type": "code",
      "metadata": {
        "colab_type": "code",
        "id": "9gywejWr5PRM",
        "colab": {}
      },
      "source": [
        "filename = 'Logistic_tfidf_model.sav'\n",
        "pickle.dump(Logistic_tfidf_model, open(filename, 'wb'))"
      ],
      "execution_count": 0,
      "outputs": []
    },
    {
      "cell_type": "code",
      "metadata": {
        "colab_type": "code",
        "id": "-J3aZkLTtW0U",
        "outputId": "d3893c51-0839-43c3-f419-6024efffc85f",
        "colab": {
          "base_uri": "https://localhost:8080/",
          "height": 34
        }
      },
      "source": [
        "print(\"The accuracy of logistic regression model for TF-IDF feature is:{}%\".format(round(score_logistic_tfidf*100, 5)))"
      ],
      "execution_count": 0,
      "outputs": [
        {
          "output_type": "stream",
          "text": [
            "The accuracy of logistic regression model for TF-IDF feature is:72.24561%\n"
          ],
          "name": "stdout"
        }
      ]
    },
    {
      "cell_type": "markdown",
      "metadata": {
        "colab_type": "text",
        "id": "-qzpoKuVuQQh"
      },
      "source": [
        "## k-NN Model"
      ]
    },
    {
      "cell_type": "markdown",
      "metadata": {
        "colab_type": "text",
        "id": "nIJzzh1VEngP"
      },
      "source": [
        "I implemented the k-nn model for both features created before(word frequency and tf-idf), trained on the training dataset, and then applied the model to the testing dataset to obtain an accuracy value. I set n_jobs to -1 in order to run as many parallel jobs as it could, other parameters of model stay default.\n",
        "\n",
        "K- Nearest Neighbors is a Supervised machine learning algorithm as target variable is known Non parametric as it does not make an assumption about the underlying data distribution pattern. Lazy algorithm as KNN does not have a training step. \n",
        "\n",
        "**pros:**\n",
        "*   Simple algorithm and hence easy to interpret the prediction\n",
        "*   Non parametric, so makes no assumption about the underlying data pattern\n",
        "\n",
        "**cons:**\n",
        "*   KNN is computationally expensive as it searches the nearest neighbors for the new point at the prediction stage\n",
        "*   High memory requirement as KNN has to store all the data points\n",
        "*   Sensitive to outliers, accuracy is impacted by noise or irrelevant data.\n",
        "*   Prediction stage is very costly"
      ]
    },
    {
      "cell_type": "code",
      "metadata": {
        "colab_type": "code",
        "id": "abAyA3kOudNb",
        "colab": {}
      },
      "source": [
        "from sklearn.neighbors import KNeighborsClassifier"
      ],
      "execution_count": 0,
      "outputs": []
    },
    {
      "cell_type": "markdown",
      "metadata": {
        "colab_type": "text",
        "id": "7V9gABWWuTw3"
      },
      "source": [
        "### for Word Frequency Feature"
      ]
    },
    {
      "cell_type": "code",
      "metadata": {
        "colab_type": "code",
        "id": "C5LaOk9muZ38",
        "outputId": "c1e5e5d9-d3c9-4e61-ed1c-e779073aa395",
        "colab": {}
      },
      "source": [
        "%%time\n",
        "KNN_WF_model = KNeighborsClassifier()\n",
        "KNN_WF_model.fit(X_WF_train, y_WF_train)\n",
        "score_knn_wf = KNN_WF_model.score(X_WF_test, y_WF_test)"
      ],
      "execution_count": 0,
      "outputs": [
        {
          "output_type": "stream",
          "text": [
            "Wall time: 45min 17s\n"
          ],
          "name": "stdout"
        }
      ]
    },
    {
      "cell_type": "code",
      "metadata": {
        "colab_type": "code",
        "id": "u_37d_C55PRX",
        "colab": {}
      },
      "source": [
        "filename = 'KNN_WF_model.sav'\n",
        "pickle.dump(KNN_WF_model, open(filename, 'wb'))"
      ],
      "execution_count": 0,
      "outputs": []
    },
    {
      "cell_type": "code",
      "metadata": {
        "colab_type": "code",
        "id": "XdHI8Bjeu4Ay",
        "outputId": "5d382c91-43a7-408b-f51c-f732521b7e61",
        "colab": {}
      },
      "source": [
        "print(\"The accuracy of knn model for word frequency feature is:{}%\".format(round(score_knn_wf*100, 5)))"
      ],
      "execution_count": 0,
      "outputs": [
        {
          "output_type": "stream",
          "text": [
            "The accuracy of knn model for word frequency feature is:66.30698%\n"
          ],
          "name": "stdout"
        }
      ]
    },
    {
      "cell_type": "markdown",
      "metadata": {
        "colab_type": "text",
        "id": "xNJ1BiO8vwK-"
      },
      "source": [
        "### For TF-IDF feature"
      ]
    },
    {
      "cell_type": "code",
      "metadata": {
        "colab_type": "code",
        "id": "NQMvkrCxvz0L",
        "outputId": "df668883-7af8-477d-f0e1-93fe7d4a7840",
        "colab": {}
      },
      "source": [
        "%%time\n",
        "KNN_tfidf_model = KNeighborsClassifier()\n",
        "KNN_tfidf_model.fit(X_tfidf_train, y_tfidf_train)\n",
        "score_knn_tfidf = KNN_tfidf_model.score(X_tfidf_test, y_tfidf_test)"
      ],
      "execution_count": 0,
      "outputs": [
        {
          "output_type": "stream",
          "text": [
            "Wall time: 35min 35s\n"
          ],
          "name": "stdout"
        }
      ]
    },
    {
      "cell_type": "code",
      "metadata": {
        "colab_type": "code",
        "id": "pM5YxMpC5PRg",
        "colab": {}
      },
      "source": [
        "filename = 'KNN_tfidf_model.sav'\n",
        "pickle.dump(KNN_tfidf_model, open(filename, 'wb'))"
      ],
      "execution_count": 0,
      "outputs": []
    },
    {
      "cell_type": "code",
      "metadata": {
        "colab_type": "code",
        "id": "x61CVp5mwMZZ",
        "outputId": "2996777a-7c7e-4863-cdca-cc018fe70f4e",
        "colab": {}
      },
      "source": [
        "print(\"The accuracy of knn model for TF-IDF feature is:{}%\".format(round(score_knn_tfidf*100, 5)))"
      ],
      "execution_count": 0,
      "outputs": [
        {
          "output_type": "stream",
          "text": [
            "The accuracy of knn model for TF-IDF feature is:65.50088%\n"
          ],
          "name": "stdout"
        }
      ]
    },
    {
      "cell_type": "markdown",
      "metadata": {
        "colab_type": "text",
        "id": "DLE5kSJlwZER"
      },
      "source": [
        "## Naive Bayes Model"
      ]
    },
    {
      "cell_type": "code",
      "metadata": {
        "colab_type": "code",
        "id": "c8OrBLXowgwX",
        "colab": {}
      },
      "source": [
        "from sklearn.naive_bayes import GaussianNB"
      ],
      "execution_count": 0,
      "outputs": []
    },
    {
      "cell_type": "markdown",
      "metadata": {
        "colab_type": "text",
        "id": "7kdpOfFt-3bC"
      },
      "source": [
        "**Pros:**\n",
        "*   Computationally fast\n",
        "*   Simple to implement\n",
        "*   Works well with high dimensions\n",
        "\n",
        "\n",
        "**Cons:**\n",
        "*   Relies on independence assumption and will perform badly if this assumption is not met\n"
      ]
    },
    {
      "cell_type": "markdown",
      "metadata": {
        "colab_type": "text",
        "id": "MeLMLk5kwl5W"
      },
      "source": [
        "### For Word Frequecy Feature"
      ]
    },
    {
      "cell_type": "code",
      "metadata": {
        "colab_type": "code",
        "id": "eETG6HthwquO",
        "outputId": "38e5ba82-d66e-4078-a16c-6f8247dca131",
        "colab": {}
      },
      "source": [
        "%%time\n",
        "NB_WF_model = GaussianNB()\n",
        "NB_WF_model.fit(X_WF_train, y_WF_train)\n",
        "score_nb_wf = NB_WF_model.score(X_WF_test, y_WF_test)"
      ],
      "execution_count": 0,
      "outputs": [
        {
          "output_type": "stream",
          "text": [
            "Wall time: 1.77 s\n"
          ],
          "name": "stdout"
        }
      ]
    },
    {
      "cell_type": "code",
      "metadata": {
        "colab_type": "code",
        "id": "BgN-pcIK5PRn",
        "colab": {}
      },
      "source": [
        "filename = 'NB_WF_model.sav'\n",
        "pickle.dump(NB_WF_model, open(filename, 'wb'))"
      ],
      "execution_count": 0,
      "outputs": []
    },
    {
      "cell_type": "code",
      "metadata": {
        "colab_type": "code",
        "id": "64LL3zwVxSuX",
        "outputId": "291f340e-53ab-42a4-ad01-0a4173c1f50c",
        "colab": {}
      },
      "source": [
        "print(\"The accuracy of Naive Bayes model for word frequency feature is:{}%\".format(round(score_nb_wf*100, 5)))"
      ],
      "execution_count": 0,
      "outputs": [
        {
          "output_type": "stream",
          "text": [
            "The accuracy of Naive Bayes model for word frequency feature is:67.46256%\n"
          ],
          "name": "stdout"
        }
      ]
    },
    {
      "cell_type": "markdown",
      "metadata": {
        "colab_type": "text",
        "id": "uQxvkKJfwrRi"
      },
      "source": [
        "### For TF-IDF Feature"
      ]
    },
    {
      "cell_type": "code",
      "metadata": {
        "colab_type": "code",
        "id": "y-FqgXoTwu_7",
        "outputId": "b8284322-b13f-4ad1-a528-dc8bbd4aa217",
        "colab": {}
      },
      "source": [
        "%%time\n",
        "NB_tfidf_model = GaussianNB()\n",
        "NB_tfidf_model.fit(X_tfidf_train, y_tfidf_train)\n",
        "score_nb_tfidf = NB_tfidf_model.score(X_tfidf_test, y_tfidf_test)"
      ],
      "execution_count": 0,
      "outputs": [
        {
          "output_type": "stream",
          "text": [
            "Wall time: 1.74 s\n"
          ],
          "name": "stdout"
        }
      ]
    },
    {
      "cell_type": "code",
      "metadata": {
        "colab_type": "code",
        "id": "vWs34kpE5PRv",
        "colab": {}
      },
      "source": [
        "filename = 'NB_tfidf_model.sav'\n",
        "pickle.dump(NB_tfidf_model, open(filename, 'wb'))"
      ],
      "execution_count": 0,
      "outputs": []
    },
    {
      "cell_type": "code",
      "metadata": {
        "colab_type": "code",
        "id": "4BYRQjtuxoat",
        "outputId": "5816ba1a-4cc4-4ab8-bcb6-58af1db8d8b4",
        "colab": {}
      },
      "source": [
        "print(\"The accuracy of Naive Bayes model for TF-IDF feature is:{}%\".format(round(score_nb_tfidf*100, 5)))"
      ],
      "execution_count": 0,
      "outputs": [
        {
          "output_type": "stream",
          "text": [
            "The accuracy of Naive Bayes model for TF-IDF feature is:66.80952%\n"
          ],
          "name": "stdout"
        }
      ]
    },
    {
      "cell_type": "markdown",
      "metadata": {
        "colab_type": "text",
        "id": "yNrbhyHVxw_w"
      },
      "source": [
        "## SVM Model"
      ]
    },
    {
      "cell_type": "markdown",
      "metadata": {
        "colab_type": "text",
        "id": "j1PaqI2f7cqY"
      },
      "source": [
        "In classification, SVM fits hyperplane to feature space to linearly seperate the classes. A hyperplane being a space that is one dimension lower than the feature space. It can use a kernel function to map the feature space to a higher dimension. Doing this will allow features to become seperable, i.e. becomes linear. \n",
        "\n",
        "\n",
        "**Pros:**\n",
        "- It has a built in regularization parameter, C that helps with over fitting.\n",
        "- Different kernels can handle different types of non-lineraity. Giving it a better handle on high-dimension datasets. \n",
        "\n",
        "**Cons:**\n",
        "- Can be difficult to tune due to different kernels would need different parameters.\n",
        "- It's slow compared to other linear classification models."
      ]
    },
    {
      "cell_type": "code",
      "metadata": {
        "colab_type": "code",
        "id": "Q1yDZeVFx2y-",
        "colab": {}
      },
      "source": [
        "from sklearn.svm import SVC"
      ],
      "execution_count": 0,
      "outputs": []
    },
    {
      "cell_type": "markdown",
      "metadata": {
        "colab_type": "text",
        "id": "Sw5_yv_ox-zQ"
      },
      "source": [
        "### For Word Frequency Feature"
      ]
    },
    {
      "cell_type": "code",
      "metadata": {
        "colab_type": "code",
        "id": "d7mMcD8myC-6",
        "outputId": "b7066e2c-cbf8-4522-d660-634b67ea1a00",
        "colab": {}
      },
      "source": [
        "%%time\n",
        "SVM_wf_model = SVC()\n",
        "SVM_wf_model.fit(X_WF_train, y_WF_train)\n",
        "score_svm_wf = SVM_wf_model.score(X_WF_test, y_WF_test)"
      ],
      "execution_count": 0,
      "outputs": [
        {
          "output_type": "stream",
          "text": [
            "Wall time: 2h 3min 15s\n"
          ],
          "name": "stdout"
        }
      ]
    },
    {
      "cell_type": "code",
      "metadata": {
        "colab_type": "code",
        "id": "QQqk8Xx75PR2",
        "colab": {}
      },
      "source": [
        "filename = 'SVM_wf_model.sav'\n",
        "pickle.dump(SVM_wf_model, open(filename, 'wb'))"
      ],
      "execution_count": 0,
      "outputs": []
    },
    {
      "cell_type": "code",
      "metadata": {
        "colab_type": "code",
        "id": "yRdtDJxLyDha",
        "outputId": "eed4cb8f-10a5-4f33-8cd6-59287ad8ed37",
        "colab": {}
      },
      "source": [
        "print(\"The accuracy of SVM model for word frequency feature is:{}%\".format(round(score_svm_wf*100, 5)))"
      ],
      "execution_count": 0,
      "outputs": [
        {
          "output_type": "stream",
          "text": [
            "The accuracy of SVM model for word frequency feature is:70.64361%\n"
          ],
          "name": "stdout"
        }
      ]
    },
    {
      "cell_type": "markdown",
      "metadata": {
        "colab_type": "text",
        "id": "6LRJNXgGyEBL"
      },
      "source": [
        "### For TF-IDF feature"
      ]
    },
    {
      "cell_type": "code",
      "metadata": {
        "colab_type": "code",
        "id": "ydjWCSCiyGQU",
        "outputId": "f965cf3b-97cc-4e40-c05b-70358ac01c00",
        "colab": {}
      },
      "source": [
        "%%time\n",
        "SVM_tfidf_model = SVC()\n",
        "SVM_tfidf_model.fit(X_tfidf_train, y_tfidf_train)\n",
        "score_svm_tfidf = SVM_tfidf_model.score(X_tfidf_test, y_tfidf_test)"
      ],
      "execution_count": 0,
      "outputs": [
        {
          "output_type": "stream",
          "text": [
            "Wall time: 1h 56min 43s\n"
          ],
          "name": "stdout"
        }
      ]
    },
    {
      "cell_type": "code",
      "metadata": {
        "colab_type": "code",
        "id": "faak6_0D5PR7",
        "colab": {}
      },
      "source": [
        "filename = 'SVM_tfidf_model.sav'\n",
        "pickle.dump(SVM_tfidf_model, open(filename, 'wb'))"
      ],
      "execution_count": 0,
      "outputs": []
    },
    {
      "cell_type": "code",
      "metadata": {
        "colab_type": "code",
        "id": "2idv-KsVyGob",
        "outputId": "03bc5e0c-9c3e-45f4-e96e-22268325cf49",
        "colab": {}
      },
      "source": [
        "print(\"The accuracy of SVM model for TF-IDF feature is:{}%\".format(round(score_svm_tfidf*100, 5)))"
      ],
      "execution_count": 0,
      "outputs": [
        {
          "output_type": "stream",
          "text": [
            "The accuracy of SVM model for TF-IDF feature is:72.56703%\n"
          ],
          "name": "stdout"
        }
      ]
    },
    {
      "cell_type": "markdown",
      "metadata": {
        "colab_type": "text",
        "id": "jJ9NKJkezALC"
      },
      "source": [
        "## Decision Tree Model"
      ]
    },
    {
      "cell_type": "code",
      "metadata": {
        "colab_type": "code",
        "id": "LfBv8zWvzDOD",
        "colab": {}
      },
      "source": [
        "from sklearn.tree import DecisionTreeClassifier"
      ],
      "execution_count": 0,
      "outputs": []
    },
    {
      "cell_type": "markdown",
      "metadata": {
        "colab_type": "text",
        "id": "FDEtZD0-939A"
      },
      "source": [
        "**Pros:**\n",
        "*   easy to interpret visually when the trees only contain several levels\n",
        "*   Can easily handle qualitative (categorical) features\n",
        "*   Works well with decision boundaries parellel to the feature axis\n",
        "\n",
        "\n",
        "**Cons:**\n",
        "*   prone to overfitting\n",
        "*   possible issues with diagonal decision boundaries\n",
        "\n"
      ]
    },
    {
      "cell_type": "markdown",
      "metadata": {
        "colab_type": "text",
        "id": "BCyy4-JWzFyW"
      },
      "source": [
        "### For Word Frequency Feature"
      ]
    },
    {
      "cell_type": "code",
      "metadata": {
        "colab_type": "code",
        "id": "bOCwyhwNzKfR",
        "outputId": "e563ad00-e98d-49e0-cd2c-a1e2805b11f7",
        "colab": {}
      },
      "source": [
        "%%time\n",
        "DT_wf_model = DecisionTreeClassifier(random_state=0)\n",
        "DT_wf_model.fit(X_WF_train, y_WF_train)\n",
        "score_dt_wf = DT_wf_model.score(X_WF_test, y_WF_test)"
      ],
      "execution_count": 0,
      "outputs": [
        {
          "output_type": "stream",
          "text": [
            "Wall time: 46.4 s\n"
          ],
          "name": "stdout"
        }
      ]
    },
    {
      "cell_type": "code",
      "metadata": {
        "colab_type": "code",
        "id": "NRtILE5m5PSF",
        "colab": {}
      },
      "source": [
        "filename = 'DT_wf_model.sav'\n",
        "pickle.dump(DT_wf_model, open(filename, 'wb'))"
      ],
      "execution_count": 0,
      "outputs": []
    },
    {
      "cell_type": "code",
      "metadata": {
        "colab_type": "code",
        "id": "hbwmMHuxzK-W",
        "outputId": "6541efb6-949f-48ec-821e-57c6f06a09a3",
        "colab": {}
      },
      "source": [
        "print(\"The accuracy of Decision Tree model for word frequency feature is:{}%\".format(round(score_dt_wf*100, 5)))"
      ],
      "execution_count": 0,
      "outputs": [
        {
          "output_type": "stream",
          "text": [
            "The accuracy of Decision Tree model for word frequency feature is:66.86309%\n"
          ],
          "name": "stdout"
        }
      ]
    },
    {
      "cell_type": "markdown",
      "metadata": {
        "colab_type": "text",
        "id": "njTh-He4zLkz"
      },
      "source": [
        "### For TF-IDF Feature"
      ]
    },
    {
      "cell_type": "code",
      "metadata": {
        "colab_type": "code",
        "id": "xepuAYbgzOxP",
        "outputId": "b7d8b1e6-e1e3-4d7d-d20f-6d83eea2277c",
        "colab": {}
      },
      "source": [
        "%%time\n",
        "DT_tfidf_model = DecisionTreeClassifier(random_state=0)\n",
        "DT_tfidf_model.fit(X_tfidf_train, y_tfidf_train)\n",
        "score_dt_tfidf = DT_tfidf_model.score(X_tfidf_test, y_tfidf_test)"
      ],
      "execution_count": 0,
      "outputs": [
        {
          "output_type": "stream",
          "text": [
            "Wall time: 46.9 s\n"
          ],
          "name": "stdout"
        }
      ]
    },
    {
      "cell_type": "code",
      "metadata": {
        "colab_type": "code",
        "id": "MKndMuy75PSL",
        "colab": {}
      },
      "source": [
        "filename = 'DT_tfidf_model.sav'\n",
        "pickle.dump(DT_tfidf_model, open(filename, 'wb'))"
      ],
      "execution_count": 0,
      "outputs": []
    },
    {
      "cell_type": "code",
      "metadata": {
        "colab_type": "code",
        "id": "s-UjH2CNzPIS",
        "outputId": "77d015b5-9397-4989-829a-07fb879d4247",
        "colab": {}
      },
      "source": [
        "print(\"The accuracy of Decision Tree model for TF-IDF feature is:{}%\".format(round(score_dt_tfidf*100, 5)))"
      ],
      "execution_count": 0,
      "outputs": [
        {
          "output_type": "stream",
          "text": [
            "The accuracy of Decision Tree model for TF-IDF feature is:66.76105%\n"
          ],
          "name": "stdout"
        }
      ]
    },
    {
      "cell_type": "markdown",
      "metadata": {
        "colab_type": "text",
        "id": "8YYbRkF-0RP-"
      },
      "source": [
        "## Random Forest Model"
      ]
    },
    {
      "cell_type": "code",
      "metadata": {
        "colab_type": "code",
        "id": "HVOxGJlz0alF",
        "colab": {}
      },
      "source": [
        "from sklearn.ensemble import RandomForestClassifier"
      ],
      "execution_count": 0,
      "outputs": []
    },
    {
      "cell_type": "markdown",
      "metadata": {
        "colab_type": "text",
        "id": "YEutVHaX-L9u"
      },
      "source": [
        "**Pros:**\n",
        "*   Decorrelates trees (relative to bagged trees)\n",
        "*   important when dealing with mulitple features which may be correlated\n",
        "*   reduced variance (relative to regular trees)\n",
        "\n",
        "**Cons:**\n",
        "*   Not as easy to visually interpret\n",
        "*   many hyperparamters"
      ]
    },
    {
      "cell_type": "markdown",
      "metadata": {
        "colab_type": "text",
        "id": "g-NSeUz60gTQ"
      },
      "source": [
        "### For word Frequency Feature"
      ]
    },
    {
      "cell_type": "code",
      "metadata": {
        "colab_type": "code",
        "id": "_bpWwJf80jz1",
        "outputId": "f140f4b9-8e15-45d7-f742-8c848640ea11",
        "colab": {}
      },
      "source": [
        "%%time\n",
        "RF_wf_model = RandomForestClassifier()\n",
        "RF_wf_model.fit(X_WF_train, y_WF_train)\n",
        "score_rf_wf = RF_wf_model.score(X_WF_test, y_WF_test)"
      ],
      "execution_count": 0,
      "outputs": [
        {
          "output_type": "stream",
          "text": [
            "Wall time: 16.2 s\n"
          ],
          "name": "stdout"
        }
      ]
    },
    {
      "cell_type": "code",
      "metadata": {
        "colab_type": "code",
        "id": "eCzQrFr-5PST",
        "colab": {}
      },
      "source": [
        "filename = 'RF_wf_model.sav'\n",
        "pickle.dump(RF_wf_model, open(filename, 'wb'))"
      ],
      "execution_count": 0,
      "outputs": []
    },
    {
      "cell_type": "code",
      "metadata": {
        "colab_type": "code",
        "id": "rGmzJE8b0kE5",
        "outputId": "9610fb27-a0d0-4f33-a787-b67b867929cc",
        "colab": {}
      },
      "source": [
        "print(\"The accuracy of Random Forest model for word frequency feature is:{}%\".format(round(score_rf_wf*100, 5)))"
      ],
      "execution_count": 0,
      "outputs": [
        {
          "output_type": "stream",
          "text": [
            "The accuracy of Random Forest model for word frequency feature is:69.79159%\n"
          ],
          "name": "stdout"
        }
      ]
    },
    {
      "cell_type": "markdown",
      "metadata": {
        "colab_type": "text",
        "id": "2g-JKZJT0kld"
      },
      "source": [
        "### For TF-IDF Feature"
      ]
    },
    {
      "cell_type": "code",
      "metadata": {
        "colab_type": "code",
        "id": "gKIFQlup0o1E",
        "outputId": "91499f90-5574-4046-db2f-b54f3ec5aaab",
        "colab": {}
      },
      "source": [
        "%%time\n",
        "RF_tfidf_model = RandomForestClassifier()\n",
        "RF_tfidf_model.fit(X_tfidf_train, y_tfidf_train)\n",
        "score_rf_tfidf = RF_tfidf_model.score(X_tfidf_test, y_tfidf_test)"
      ],
      "execution_count": 0,
      "outputs": [
        {
          "output_type": "stream",
          "text": [
            "Wall time: 16.3 s\n"
          ],
          "name": "stdout"
        }
      ]
    },
    {
      "cell_type": "code",
      "metadata": {
        "colab_type": "code",
        "id": "gfP3Mgof5PSb",
        "colab": {}
      },
      "source": [
        "filename = 'RF_tfidf_model.sav'\n",
        "pickle.dump(RF_tfidf_model, open(filename, 'wb'))"
      ],
      "execution_count": 0,
      "outputs": []
    },
    {
      "cell_type": "code",
      "metadata": {
        "colab_type": "code",
        "id": "rgoZkc1d0pRi",
        "outputId": "8df5fb12-cbd0-458d-8375-40883b5e9b6c",
        "colab": {}
      },
      "source": [
        "print(\"The accuracy of Random Forest model for TF-IDF feature is:{}%\".format(round(score_rf_tfidf*100, 5)))"
      ],
      "execution_count": 0,
      "outputs": [
        {
          "output_type": "stream",
          "text": [
            "The accuracy of Random Forest model for TF-IDF feature is:69.57476%\n"
          ],
          "name": "stdout"
        }
      ]
    },
    {
      "cell_type": "markdown",
      "metadata": {
        "colab_type": "text",
        "id": "lH3hwRqv1W4K"
      },
      "source": [
        "## XGBoost Model"
      ]
    },
    {
      "cell_type": "code",
      "metadata": {
        "colab_type": "code",
        "id": "nKGKyLjR1Z2G",
        "colab": {}
      },
      "source": [
        "#!pip install xgboost\n",
        "import xgboost as xgb"
      ],
      "execution_count": 0,
      "outputs": []
    },
    {
      "cell_type": "markdown",
      "metadata": {
        "colab_type": "text",
        "id": "AOc9O06M-khD"
      },
      "source": [
        "**Pros:**\n",
        "*   Somewhat more interpretable than bagged trees/random forest as the user can define the size of each tree resulting in a collection of stumps (1 level) which can be viewed as an additive model\n",
        "*   Can easily handle qualitative (categorical) features\n",
        "\n",
        "**Cons:**\n",
        "*   Unlike bagging and random forests, can overfit if number of trees is too large"
      ]
    },
    {
      "cell_type": "markdown",
      "metadata": {
        "colab_type": "text",
        "id": "i4bA_4vo1dMs"
      },
      "source": [
        "### For Word Frequency Feature"
      ]
    },
    {
      "cell_type": "code",
      "metadata": {
        "colab_type": "code",
        "id": "EMnFNfzt1gZl",
        "outputId": "7374c0a0-c373-42af-e4e1-11a3323b984c",
        "colab": {}
      },
      "source": [
        "%%time\n",
        "xgb_wf_model = xgb.XGBClassifier(objective=\"binary:logistic\", random_state=42)\n",
        "xgb_wf_model.fit(X_WF_train, y_WF_train)\n",
        "score_xgb_wf = xgb_wf_model.score(X_WF_test, y_WF_test)"
      ],
      "execution_count": 0,
      "outputs": [
        {
          "output_type": "stream",
          "text": [
            "Wall time: 1min 12s\n"
          ],
          "name": "stdout"
        }
      ]
    },
    {
      "cell_type": "code",
      "metadata": {
        "colab_type": "code",
        "id": "J8W2HGqo5PSi",
        "colab": {}
      },
      "source": [
        "filename = 'xgb_wf_model.sav'\n",
        "pickle.dump(xgb_wf_model, open(filename, 'wb'))"
      ],
      "execution_count": 0,
      "outputs": []
    },
    {
      "cell_type": "code",
      "metadata": {
        "colab_type": "code",
        "id": "f1HIb1wO1gwh",
        "outputId": "1d2e27c7-64d4-4f7b-d6f2-69c423df0772",
        "colab": {}
      },
      "source": [
        "print(\"The accuracy of XGBoost model for word frequency feature is:{}%\".format(round(score_xgb_wf*100, 5)))"
      ],
      "execution_count": 0,
      "outputs": [
        {
          "output_type": "stream",
          "text": [
            "The accuracy of XGBoost model for word frequency feature is:72.3706%\n"
          ],
          "name": "stdout"
        }
      ]
    },
    {
      "cell_type": "markdown",
      "metadata": {
        "colab_type": "text",
        "id": "kICbyTfS1hIa"
      },
      "source": [
        "### For TF-IDF Feature"
      ]
    },
    {
      "cell_type": "code",
      "metadata": {
        "colab_type": "code",
        "id": "Ik0sWZmr1l6V",
        "outputId": "dd509d06-a127-4095-e143-8389b4f6ef99",
        "colab": {}
      },
      "source": [
        "%%time\n",
        "xgb_tfidf_model = xgb.XGBClassifier(objective=\"binary:logistic\", random_state=42)\n",
        "xgb_tfidf_model.fit(X_tfidf_train, y_tfidf_train)\n",
        "score_xgb_tfidf = xgb_tfidf_model.score(X_tfidf_test, y_tfidf_test)"
      ],
      "execution_count": 0,
      "outputs": [
        {
          "output_type": "stream",
          "text": [
            "Wall time: 1min 12s\n"
          ],
          "name": "stdout"
        }
      ]
    },
    {
      "cell_type": "code",
      "metadata": {
        "colab_type": "code",
        "id": "qGB2UxAT5PSn",
        "colab": {}
      },
      "source": [
        "filename = 'xgb_tfidf_model.sav'\n",
        "pickle.dump(xgb_tfidf_model, open(filename, 'wb'))"
      ],
      "execution_count": 0,
      "outputs": []
    },
    {
      "cell_type": "code",
      "metadata": {
        "colab_type": "code",
        "id": "2ETVzYMS1mN9",
        "outputId": "12fca689-6d1f-43b1-a875-daf875050658",
        "colab": {}
      },
      "source": [
        "print(\"The accuracy of XGBoost model for TF-IDF feature is:{}%\".format(round(score_xgb_tfidf*100, 5)))"
      ],
      "execution_count": 0,
      "outputs": [
        {
          "output_type": "stream",
          "text": [
            "The accuracy of XGBoost model for TF-IDF feature is:72.5007%\n"
          ],
          "name": "stdout"
        }
      ]
    },
    {
      "cell_type": "markdown",
      "metadata": {
        "colab_type": "text",
        "id": "bKhu2SBw4dQz"
      },
      "source": [
        "## Results for 7 Models above and pick the best one"
      ]
    },
    {
      "cell_type": "markdown",
      "metadata": {
        "colab_type": "text",
        "id": "ZiHrbjgnXhp3"
      },
      "source": [
        "Below is the result datafram which shows the accuracy score for seven different model."
      ]
    },
    {
      "cell_type": "code",
      "metadata": {
        "colab_type": "code",
        "id": "7ckvIMrS4j7_",
        "outputId": "6608580d-8107-4d6e-f32b-d8b1023022fe",
        "colab": {}
      },
      "source": [
        "model_name = np.array([['Logistic Regression'], ['k-NN'], ['Naive Bayes'], ['SVM'], ['Decision Tree'],\n",
        "                       ['Random Forest'], ['XGBoost']])\n",
        "wf_accuracy = np.array([[round(score_logistic_wf*100, 3)], [round(score_knn_wf*100, 3)],\n",
        "              [round(score_nb_wf*100, 3)], [round(score_svm_wf*100, 3)],\n",
        "              [round(score_dt_wf*100, 3)], [round(score_rf_wf*100, 3)],\n",
        "              [round(score_xgb_wf*100, 3)]])\n",
        "tfidf_accuracy = np.array([[round(score_logistic_tfidf*100, 3)], [round(score_knn_tfidf*100, 3)],\n",
        "              [round(score_nb_tfidf*100, 3)], [round(score_svm_tfidf*100, 3)],\n",
        "              [round(score_dt_tfidf*100, 3)], [round(score_rf_tfidf*100, 3)],\n",
        "              [round(score_xgb_tfidf*100, 3)]])  \n",
        "result_np = np.concatenate((model_name, wf_accuracy, tfidf_accuracy), axis=1) \n",
        "Result = pd.DataFrame(result_np)\n",
        "Result.columns = ['model', 'bag of words', 'tf-idf']\n",
        "Result"
      ],
      "execution_count": 0,
      "outputs": [
        {
          "output_type": "execute_result",
          "data": {
            "text/html": [
              "<div>\n",
              "<style scoped>\n",
              "    .dataframe tbody tr th:only-of-type {\n",
              "        vertical-align: middle;\n",
              "    }\n",
              "\n",
              "    .dataframe tbody tr th {\n",
              "        vertical-align: top;\n",
              "    }\n",
              "\n",
              "    .dataframe thead th {\n",
              "        text-align: right;\n",
              "    }\n",
              "</style>\n",
              "<table border=\"1\" class=\"dataframe\">\n",
              "  <thead>\n",
              "    <tr style=\"text-align: right;\">\n",
              "      <th></th>\n",
              "      <th>model</th>\n",
              "      <th>bag of words</th>\n",
              "      <th>tf-idf</th>\n",
              "    </tr>\n",
              "  </thead>\n",
              "  <tbody>\n",
              "    <tr>\n",
              "      <th>0</th>\n",
              "      <td>Logistic Regression</td>\n",
              "      <td>72.506</td>\n",
              "      <td>72.246</td>\n",
              "    </tr>\n",
              "    <tr>\n",
              "      <th>1</th>\n",
              "      <td>k-NN</td>\n",
              "      <td>66.307</td>\n",
              "      <td>65.501</td>\n",
              "    </tr>\n",
              "    <tr>\n",
              "      <th>2</th>\n",
              "      <td>Naive Bayes</td>\n",
              "      <td>67.463</td>\n",
              "      <td>66.81</td>\n",
              "    </tr>\n",
              "    <tr>\n",
              "      <th>3</th>\n",
              "      <td>SVM</td>\n",
              "      <td>70.644</td>\n",
              "      <td>72.567</td>\n",
              "    </tr>\n",
              "    <tr>\n",
              "      <th>4</th>\n",
              "      <td>Decision Tree</td>\n",
              "      <td>66.863</td>\n",
              "      <td>66.761</td>\n",
              "    </tr>\n",
              "    <tr>\n",
              "      <th>5</th>\n",
              "      <td>Random Forest</td>\n",
              "      <td>69.792</td>\n",
              "      <td>69.575</td>\n",
              "    </tr>\n",
              "    <tr>\n",
              "      <th>6</th>\n",
              "      <td>XGBoost</td>\n",
              "      <td>72.371</td>\n",
              "      <td>72.501</td>\n",
              "    </tr>\n",
              "  </tbody>\n",
              "</table>\n",
              "</div>"
            ],
            "text/plain": [
              "                 model bag of words  tf-idf\n",
              "0  Logistic Regression       72.506  72.246\n",
              "1                 k-NN       66.307  65.501\n",
              "2          Naive Bayes       67.463   66.81\n",
              "3                  SVM       70.644  72.567\n",
              "4        Decision Tree       66.863  66.761\n",
              "5        Random Forest       69.792  69.575\n",
              "6              XGBoost       72.371  72.501"
            ]
          },
          "metadata": {
            "tags": []
          },
          "execution_count": 97
        }
      ]
    },
    {
      "cell_type": "markdown",
      "metadata": {
        "colab_type": "text",
        "id": "E8UJVZagPGMW"
      },
      "source": [
        "### Hyperparameter Tuning for Best Model"
      ]
    },
    {
      "cell_type": "markdown",
      "metadata": {
        "colab_type": "text",
        "id": "70YPeTIDXyy3"
      },
      "source": [
        "Since the run time for SVM(best model) is the longest, usually takes 2-3 hrs to finish. If I implemented grid search on this model, the runing time will be more than a day. \n",
        "Thus, **I decided to not tune hyperparameter of the Best model**, but I will leave the code below for future tuning.\n",
        "\n",
        "***Best model is the SVM with default setting.***"
      ]
    },
    {
      "cell_type": "code",
      "metadata": {
        "colab_type": "code",
        "id": "kTPGmduYPGMW",
        "colab": {}
      },
      "source": [
        "# grid_values = {'C':[1,10,100],'gamma':[1,0.1], 'kernel':['rbf']}\n",
        "# grid = GridSearchCV(SVM_tfidf_model, param_grid = grid_values,cv=5,scoring = 'accuracy', refit = True, verbose = 3)\n",
        "# best_result = grid.fit(X_tfidf_train, y_tfidf_train)"
      ],
      "execution_count": 0,
      "outputs": []
    },
    {
      "cell_type": "code",
      "metadata": {
        "colab_type": "code",
        "id": "zkCvK1fwPGMY",
        "colab": {}
      },
      "source": [
        "# print('Best C:', best_result.best_estimator_.get_params()['C'])\n",
        "# print(\"Best accuracy :\",best_result.best_score_)\n",
        "# print('Best gamma:', best_result.best_estimator_.get_params()['gamma'])"
      ],
      "execution_count": 0,
      "outputs": []
    },
    {
      "cell_type": "code",
      "metadata": {
        "colab_type": "code",
        "id": "GK4lXliKPGMZ",
        "outputId": "1024f86d-67fb-486b-973a-b1153345626d",
        "colab": {}
      },
      "source": [
        "print(\"The runing time for tuning hyperparameter with best performance is too long.\")\n",
        "print(\"The code above is for hyperparameter tuning of SVM model with TFIDF feature\")\n",
        "print(\"For this assignment I desided not to tune because my computer's computation capability cannot make it!\")"
      ],
      "execution_count": 0,
      "outputs": [
        {
          "output_type": "stream",
          "text": [
            "The runing time for tuning hyperparameter with best performance is too long.\n",
            "The code above is for hyperparameter tuning of SVM model with TFIDF feature\n",
            "For this assignment I desided not to tune because my computer's computation capability cannot make it!\n"
          ],
          "name": "stdout"
        }
      ]
    },
    {
      "cell_type": "markdown",
      "metadata": {
        "colab_type": "text",
        "id": "Nf8InNu23BqJ"
      },
      "source": [
        "## Evaluate the Best Model(SVM_tfidf) on Canadian Elections Data"
      ]
    },
    {
      "cell_type": "markdown",
      "metadata": {
        "colab_type": "text",
        "id": "No-7saNV3IIa"
      },
      "source": [
        "In this section, I am using the best model from the generic tweets dataset to predict the sentiment value of the Canadian elections data. To do this, I will need to perform similar procedures as before to encode the tweets. \n",
        "\n",
        "Furthermore, I have also encoded the \"positive\" and \"negative\" target labels in to \"1\" and \"0\" to match that of the generic tweet dataset."
      ]
    },
    {
      "cell_type": "code",
      "metadata": {
        "colab_type": "code",
        "id": "cTUi_3lUoXxv",
        "colab": {}
      },
      "source": [
        "# remove punctuations\n",
        "canadian_elections_final[\"cleaned_tweets\"] = canadian_elections_final['tweets_with_lemmer'].str.replace('[{}]'.format(string.punctuation), '')"
      ],
      "execution_count": 0,
      "outputs": []
    },
    {
      "cell_type": "code",
      "metadata": {
        "colab_type": "code",
        "id": "vPs0YIyL6G9u",
        "colab": {}
      },
      "source": [
        "label_encoding = {\"Positive\":1,\"Negative\":0}\n",
        "canadian_elections_final.loc[0:,'sentiment_labels'] = canadian_elections_final.loc[0:,'sentiment'].map(label_encoding)\n",
        "canadian_elections_final.drop(['sentiment'],axis=1,inplace=True)"
      ],
      "execution_count": 0,
      "outputs": []
    },
    {
      "cell_type": "code",
      "metadata": {
        "colab_type": "code",
        "id": "GKRoq7vK658V",
        "outputId": "ac29bb09-49d3-477b-f42e-6102c6a2079a",
        "colab": {
          "base_uri": "https://localhost:8080/",
          "height": 204
        }
      },
      "source": [
        "elec_tweets_sentiment = pd.concat([canadian_elections_final['sentiment_labels'], canadian_elections_final['cleaned_tweets']], axis=1)\n",
        "elec_tweets_sentiment.head()"
      ],
      "execution_count": 0,
      "outputs": [
        {
          "output_type": "execute_result",
          "data": {
            "text/html": [
              "<div>\n",
              "<style scoped>\n",
              "    .dataframe tbody tr th:only-of-type {\n",
              "        vertical-align: middle;\n",
              "    }\n",
              "\n",
              "    .dataframe tbody tr th {\n",
              "        vertical-align: top;\n",
              "    }\n",
              "\n",
              "    .dataframe thead th {\n",
              "        text-align: right;\n",
              "    }\n",
              "</style>\n",
              "<table border=\"1\" class=\"dataframe\">\n",
              "  <thead>\n",
              "    <tr style=\"text-align: right;\">\n",
              "      <th></th>\n",
              "      <th>sentiment_labels</th>\n",
              "      <th>cleaned_tweets</th>\n",
              "    </tr>\n",
              "  </thead>\n",
              "  <tbody>\n",
              "    <tr>\n",
              "      <th>0</th>\n",
              "      <td>0</td>\n",
              "      <td>instead suggestion  agree  canadian  woman tru...</td>\n",
              "    </tr>\n",
              "    <tr>\n",
              "      <th>1</th>\n",
              "      <td>1</td>\n",
              "      <td>allwomanspacewalk real  n n  etobicokenorth  ...</td>\n",
              "    </tr>\n",
              "    <tr>\n",
              "      <th>2</th>\n",
              "      <td>0</td>\n",
              "      <td>brantford going cost  94 billion next 4 year ...</td>\n",
              "    </tr>\n",
              "    <tr>\n",
              "      <th>3</th>\n",
              "      <td>1</td>\n",
              "      <td>canada  canadaelection2019  canadavotes n  el...</td>\n",
              "    </tr>\n",
              "    <tr>\n",
              "      <th>4</th>\n",
              "      <td>0</td>\n",
              "      <td>canada  taxpayer sick  tired hard earned  don...</td>\n",
              "    </tr>\n",
              "  </tbody>\n",
              "</table>\n",
              "</div>"
            ],
            "text/plain": [
              "   sentiment_labels                                     cleaned_tweets\n",
              "0                 0  instead suggestion  agree  canadian  woman tru...\n",
              "1                 1   allwomanspacewalk real  n n  etobicokenorth  ...\n",
              "2                 0   brantford going cost  94 billion next 4 year ...\n",
              "3                 1   canada  canadaelection2019  canadavotes n  el...\n",
              "4                 0   canada  taxpayer sick  tired hard earned  don..."
            ]
          },
          "metadata": {
            "tags": []
          },
          "execution_count": 103
        }
      ]
    },
    {
      "cell_type": "markdown",
      "metadata": {
        "colab_type": "text",
        "id": "E3TSUmIz7gBy"
      },
      "source": [
        "### TF-IDF Feature for Canadian Election data"
      ]
    },
    {
      "cell_type": "markdown",
      "metadata": {
        "colab_type": "text",
        "id": "NC26DThu7rg0"
      },
      "source": [
        "Since TF-IDF features generally do better than CountVec features with the generic tweet dataset, I have chosen to proceed with only the TF-IDF method for the elections data."
      ]
    },
    {
      "cell_type": "code",
      "metadata": {
        "colab_type": "code",
        "id": "GVbvDPgR7nFD",
        "outputId": "360c93ed-4b69-4358-f4b8-ed72da04c0ee",
        "colab": {
          "base_uri": "https://localhost:8080/",
          "height": 253
        }
      },
      "source": [
        "tfidf_vectorizer = TfidfVectorizer(max_features = 600,use_idf=True, smooth_idf=True, norm=None)\n",
        "tfidf_vec = tfidf_vectorizer.fit_transform(elec_tweets_sentiment['cleaned_tweets'].values.astype('U'))\n",
        "tfidf_array = tfidf_vec.toarray()\n",
        "\n",
        "# encode every tweet\n",
        "TFIDF_features_elec = pd.DataFrame(data=tfidf_array, columns = tfidf_vectorizer.get_feature_names())\n",
        "\n",
        "# create feature dataframe for trainning\n",
        "elec_tweets_tfidf = pd.concat([elec_tweets_sentiment['sentiment_labels'], TFIDF_features_elec], axis=1)\n",
        "\n",
        "# display the first few rows of the dataset that will be used for trainning\n",
        "elec_tweets_tfidf.head()"
      ],
      "execution_count": 0,
      "outputs": [
        {
          "output_type": "execute_result",
          "data": {
            "text/html": [
              "<div>\n",
              "<style scoped>\n",
              "    .dataframe tbody tr th:only-of-type {\n",
              "        vertical-align: middle;\n",
              "    }\n",
              "\n",
              "    .dataframe tbody tr th {\n",
              "        vertical-align: top;\n",
              "    }\n",
              "\n",
              "    .dataframe thead th {\n",
              "        text-align: right;\n",
              "    }\n",
              "</style>\n",
              "<table border=\"1\" class=\"dataframe\">\n",
              "  <thead>\n",
              "    <tr style=\"text-align: right;\">\n",
              "      <th></th>\n",
              "      <th>sentiment_labels</th>\n",
              "      <th>10</th>\n",
              "      <th>20</th>\n",
              "      <th>2015</th>\n",
              "      <th>2019</th>\n",
              "      <th>21</th>\n",
              "      <th>21st</th>\n",
              "      <th>23</th>\n",
              "      <th>28</th>\n",
              "      <th>able</th>\n",
              "      <th>...</th>\n",
              "      <th>wow</th>\n",
              "      <th>wrong</th>\n",
              "      <th>yeah</th>\n",
              "      <th>year</th>\n",
              "      <th>yeg</th>\n",
              "      <th>yes</th>\n",
              "      <th>yet</th>\n",
              "      <th>you</th>\n",
              "      <th>young</th>\n",
              "      <th>youre</th>\n",
              "    </tr>\n",
              "  </thead>\n",
              "  <tbody>\n",
              "    <tr>\n",
              "      <th>0</th>\n",
              "      <td>0</td>\n",
              "      <td>0.0</td>\n",
              "      <td>0.0</td>\n",
              "      <td>0.0</td>\n",
              "      <td>0.0</td>\n",
              "      <td>0.0</td>\n",
              "      <td>0.0</td>\n",
              "      <td>0.0</td>\n",
              "      <td>0.0</td>\n",
              "      <td>0.0</td>\n",
              "      <td>...</td>\n",
              "      <td>0.0</td>\n",
              "      <td>0.0</td>\n",
              "      <td>0.0</td>\n",
              "      <td>0.000000</td>\n",
              "      <td>0.0</td>\n",
              "      <td>0.0</td>\n",
              "      <td>0.0</td>\n",
              "      <td>0.0</td>\n",
              "      <td>0.0</td>\n",
              "      <td>0.0</td>\n",
              "    </tr>\n",
              "    <tr>\n",
              "      <th>1</th>\n",
              "      <td>1</td>\n",
              "      <td>0.0</td>\n",
              "      <td>0.0</td>\n",
              "      <td>0.0</td>\n",
              "      <td>0.0</td>\n",
              "      <td>0.0</td>\n",
              "      <td>0.0</td>\n",
              "      <td>0.0</td>\n",
              "      <td>0.0</td>\n",
              "      <td>0.0</td>\n",
              "      <td>...</td>\n",
              "      <td>0.0</td>\n",
              "      <td>0.0</td>\n",
              "      <td>0.0</td>\n",
              "      <td>0.000000</td>\n",
              "      <td>0.0</td>\n",
              "      <td>0.0</td>\n",
              "      <td>0.0</td>\n",
              "      <td>0.0</td>\n",
              "      <td>0.0</td>\n",
              "      <td>0.0</td>\n",
              "    </tr>\n",
              "    <tr>\n",
              "      <th>2</th>\n",
              "      <td>0</td>\n",
              "      <td>0.0</td>\n",
              "      <td>0.0</td>\n",
              "      <td>0.0</td>\n",
              "      <td>0.0</td>\n",
              "      <td>0.0</td>\n",
              "      <td>0.0</td>\n",
              "      <td>0.0</td>\n",
              "      <td>0.0</td>\n",
              "      <td>0.0</td>\n",
              "      <td>...</td>\n",
              "      <td>0.0</td>\n",
              "      <td>0.0</td>\n",
              "      <td>0.0</td>\n",
              "      <td>4.571409</td>\n",
              "      <td>0.0</td>\n",
              "      <td>0.0</td>\n",
              "      <td>0.0</td>\n",
              "      <td>0.0</td>\n",
              "      <td>0.0</td>\n",
              "      <td>0.0</td>\n",
              "    </tr>\n",
              "    <tr>\n",
              "      <th>3</th>\n",
              "      <td>1</td>\n",
              "      <td>0.0</td>\n",
              "      <td>0.0</td>\n",
              "      <td>0.0</td>\n",
              "      <td>0.0</td>\n",
              "      <td>0.0</td>\n",
              "      <td>0.0</td>\n",
              "      <td>0.0</td>\n",
              "      <td>0.0</td>\n",
              "      <td>0.0</td>\n",
              "      <td>...</td>\n",
              "      <td>0.0</td>\n",
              "      <td>0.0</td>\n",
              "      <td>0.0</td>\n",
              "      <td>0.000000</td>\n",
              "      <td>0.0</td>\n",
              "      <td>0.0</td>\n",
              "      <td>0.0</td>\n",
              "      <td>0.0</td>\n",
              "      <td>0.0</td>\n",
              "      <td>0.0</td>\n",
              "    </tr>\n",
              "    <tr>\n",
              "      <th>4</th>\n",
              "      <td>0</td>\n",
              "      <td>0.0</td>\n",
              "      <td>0.0</td>\n",
              "      <td>0.0</td>\n",
              "      <td>0.0</td>\n",
              "      <td>0.0</td>\n",
              "      <td>0.0</td>\n",
              "      <td>0.0</td>\n",
              "      <td>0.0</td>\n",
              "      <td>0.0</td>\n",
              "      <td>...</td>\n",
              "      <td>0.0</td>\n",
              "      <td>0.0</td>\n",
              "      <td>0.0</td>\n",
              "      <td>0.000000</td>\n",
              "      <td>0.0</td>\n",
              "      <td>0.0</td>\n",
              "      <td>0.0</td>\n",
              "      <td>0.0</td>\n",
              "      <td>0.0</td>\n",
              "      <td>0.0</td>\n",
              "    </tr>\n",
              "  </tbody>\n",
              "</table>\n",
              "<p>5 rows × 601 columns</p>\n",
              "</div>"
            ],
            "text/plain": [
              "   sentiment_labels   10   20  2015  2019   21  21st   23   28  able  ...  \\\n",
              "0                 0  0.0  0.0   0.0   0.0  0.0   0.0  0.0  0.0   0.0  ...   \n",
              "1                 1  0.0  0.0   0.0   0.0  0.0   0.0  0.0  0.0   0.0  ...   \n",
              "2                 0  0.0  0.0   0.0   0.0  0.0   0.0  0.0  0.0   0.0  ...   \n",
              "3                 1  0.0  0.0   0.0   0.0  0.0   0.0  0.0  0.0   0.0  ...   \n",
              "4                 0  0.0  0.0   0.0   0.0  0.0   0.0  0.0  0.0   0.0  ...   \n",
              "\n",
              "   wow  wrong  yeah      year  yeg  yes  yet  you  young  youre  \n",
              "0  0.0    0.0   0.0  0.000000  0.0  0.0  0.0  0.0    0.0    0.0  \n",
              "1  0.0    0.0   0.0  0.000000  0.0  0.0  0.0  0.0    0.0    0.0  \n",
              "2  0.0    0.0   0.0  4.571409  0.0  0.0  0.0  0.0    0.0    0.0  \n",
              "3  0.0    0.0   0.0  0.000000  0.0  0.0  0.0  0.0    0.0    0.0  \n",
              "4  0.0    0.0   0.0  0.000000  0.0  0.0  0.0  0.0    0.0    0.0  \n",
              "\n",
              "[5 rows x 601 columns]"
            ]
          },
          "metadata": {
            "tags": []
          },
          "execution_count": 104
        }
      ]
    },
    {
      "cell_type": "code",
      "metadata": {
        "colab_type": "code",
        "id": "D-auhIYRPGMo",
        "colab": {}
      },
      "source": [
        "#load the best model from disk\n",
        "filename = 'SVM_tfidf_model.sav'\n",
        "best_model = pickle.load(open(filename,'rb'))"
      ],
      "execution_count": 0,
      "outputs": []
    },
    {
      "cell_type": "code",
      "metadata": {
        "colab_type": "code",
        "id": "zaLIEjtp8eN7",
        "outputId": "8d44510f-f4fa-4460-f1d0-c10727d1f461",
        "colab": {}
      },
      "source": [
        "# tfidf data on election dataset\n",
        "X_tfidf_elec = elec_tweets_tfidf.drop(['sentiment_labels'], axis=1)\n",
        "#tfidf label on election dataset\n",
        "y_tfidf_elec = elec_tweets_tfidf['sentiment_labels']\n",
        "\n",
        "# using the best model from the generic tweets(svm_tfidf)\n",
        "best_model_election_predict = best_model.predict(X_tfidf_elec)\n",
        "best_model_election_accuracy = accuracy_score(y_tfidf_elec, best_model_election_predict)\n",
        "print(\"The accuracy of predictions on the election data is: {}%\".format(round(best_model_election_accuracy*100, 3)))"
      ],
      "execution_count": 0,
      "outputs": [
        {
          "output_type": "stream",
          "text": [
            "The accuracy of predictions on the election data is: 53.118%\n"
          ],
          "name": "stdout"
        }
      ]
    },
    {
      "cell_type": "markdown",
      "metadata": {
        "colab_type": "text",
        "id": "vI58HV4R_2EY"
      },
      "source": [
        "## Visualization"
      ]
    },
    {
      "cell_type": "code",
      "metadata": {
        "colab_type": "code",
        "id": "9tDNeRH1_0su",
        "colab": {}
      },
      "source": [
        "canadian_elections_final['predict'] = best_model_election_predict\n",
        "lib_visual = canadian_elections_final[canadian_elections_final['Party'] == 'Liberal']\n",
        "lib_pos_target = lib_visual['sentiment_labels'].sum()\n",
        "lib_neg_target = lib_visual.shape[0] - lib_pos_target\n",
        "lib_pos_predict = lib_visual['predict'].sum()\n",
        "lib_neg_predict = lib_visual.shape[0] - lib_pos_predict\n",
        "\n",
        "con_visual = canadian_elections_final[canadian_elections_final['Party'] == 'Conservative']\n",
        "con_pos_target = con_visual['sentiment_labels'].sum()\n",
        "con_neg_target = con_visual.shape[0] - con_pos_target\n",
        "con_pos_predict = con_visual['predict'].sum()\n",
        "con_neg_predict = con_visual.shape[0] - con_pos_predict\n",
        "\n",
        "ndp_visual = canadian_elections_final[canadian_elections_final['Party'] == 'NDP']\n",
        "ndp_pos_target = ndp_visual['sentiment_labels'].sum()\n",
        "ndp_neg_target = ndp_visual.shape[0] - ndp_pos_target\n",
        "ndp_pos_predict = ndp_visual['predict'].sum()\n",
        "ndp_neg_predict = ndp_visual.shape[0] - ndp_pos_predict\n",
        "\n",
        "pos_target_list = [lib_pos_target, con_pos_target, ndp_pos_target]\n",
        "neg_target_list = [lib_neg_target, con_neg_target, ndp_neg_target]\n",
        "pos_predict_list = [lib_pos_predict, con_pos_predict, ndp_pos_predict]\n",
        "neg_predict_list = [lib_neg_predict, con_neg_predict, ndp_neg_predict]"
      ],
      "execution_count": 0,
      "outputs": []
    },
    {
      "cell_type": "code",
      "metadata": {
        "colab_type": "code",
        "id": "fkK9lM5WCXKX",
        "outputId": "c94de52a-4f67-4782-e25c-d565383515ea",
        "colab": {}
      },
      "source": [
        "# plot the bar chart\n",
        "fig, ax = plt.subplots()\n",
        "index = np.arange(3)\n",
        "bar_width = 0.1\n",
        "opacity = 0.88\n",
        "\n",
        "plt.bar(index-bar_width, pos_target_list, bar_width, alpha=opacity, \n",
        "        color='royalblue', label='Target Positive')\n",
        "plt.bar(index, pos_predict_list, bar_width, alpha=opacity, \n",
        "         color='blue', label='Predicted Positive')\n",
        "\n",
        "\n",
        "plt.bar(index+bar_width, neg_target_list, bar_width, alpha=opacity, \n",
        "        color='red', edgecolor='white', label='Target Negative')\n",
        "plt.bar(index + 2*bar_width, neg_predict_list, bar_width, alpha=opacity,\n",
        "        color='pink', edgecolor='white', label='Predicted Negative')\n",
        "\n",
        "plt.xlabel('Parties')\n",
        "plt.ylabel('counts')\n",
        "plt.title('Predicted results vs. Actual target Sentiment for Three Parties')\n",
        "plt.xticks(index + bar_width/2, ('LIB', 'CON', 'NDP'))\n",
        "plt.legend()\n",
        "\n",
        "plt.tight_layout()\n",
        "plt.show()"
      ],
      "execution_count": 0,
      "outputs": [
        {
          "output_type": "display_data",
          "data": {
            "image/png": "[encoded data removed]",
            "text/plain": [
              "<Figure size 432x288 with 1 Axes>"
            ]
          },
          "metadata": {
            "tags": [],
            "needs_background": "light"
          }
        }
      ]
    },
    {
      "cell_type": "markdown",
      "metadata": {
        "id": "KenH0Ucudjrx",
        "colab_type": "text"
      },
      "source": [
        "Discussion for the plot is at the end of notebook in section :\"Results\"-\"first model\""
      ]
    },
    {
      "cell_type": "markdown",
      "metadata": {
        "colab_type": "text",
        "id": "8T5CpcQzDa6U"
      },
      "source": [
        "### Discussion"
      ]
    },
    {
      "cell_type": "markdown",
      "metadata": {
        "colab_type": "text",
        "id": "xCVN1vdCDc0k"
      },
      "source": [
        "Based on the sentiment prediction results from each of the parties, it seemed that the model trained on generic tweet sentiments biased towards negative sentiments when it evaluated on the 2019 canadian election dataset. The accuracy was only at 53.118%%.\n",
        "\n",
        "With this implementation, **I believe that NLP analytics based on tweets is not useful for political parties during election campaigns as the results obtained before are not robust enough to show whether the general public is expressing either positive or negative feelings towards a specific party.**\n",
        "\n",
        "However, **I believe with a more sophisticated kind of implementation, NLP analytics could be useful**. \n",
        "\n",
        "For example, a simple procedure was designed to assign each tweet a political party label based on the keywords and hashtags used; this is not a good method as some tweets can be talking about 2 or more different political parties.\n",
        "Another way to improve is to use better sentiment datasets for trainning. An example of a better dataset could include election tweets from previous years as those tweets would be more relevant in terms of the content and language used. \n",
        "\n",
        "Besides, we can also implement more powerful model such as RNN and deep neural nets with ngram or word embedding features."
      ]
    },
    {
      "cell_type": "markdown",
      "metadata": {
        "colab_type": "text",
        "id": "zwaY4xjIDr0o"
      },
      "source": [
        "## Negative reason prediction"
      ]
    },
    {
      "cell_type": "markdown",
      "metadata": {
        "colab_type": "text",
        "id": "RipUvQG7Y6Cj"
      },
      "source": [
        "In this section, three classifiers are trained to predict the negative reason of election tweets with negative sentiments. The three classifiers below are chosen for their fast training time and best performance criteria.\n",
        "\n",
        "    - : Logistic Regression\n",
        "    - : Decision Tree\n",
        "    - : SVM\n",
        "\n",
        "\n",
        "Because TF-IDF feature generally performs better than Word frequency, I will use **tf-idf feature** on canadian election dataset."
      ]
    },
    {
      "cell_type": "code",
      "metadata": {
        "colab_type": "code",
        "id": "ljQ7X7xCEQZm",
        "colab": {}
      },
      "source": [
        "# create a dataset of cleaned election tweets that include the TF-IDF encoded tweets\n",
        "elec_data_df = pd.concat([canadian_elections_final['negative_reason'], canadian_elections_final['sentiment_labels'], TFIDF_features_elec], axis=1)\n",
        "\n",
        "# find all the negative sentiment\n",
        "negative_df = elec_data_df[elec_data_df['sentiment_labels'] == 0]\n",
        "negative_df.head()\n",
        "\n",
        "# drop unecessary columns \n",
        "negative_df = negative_df.drop(['sentiment_labels'], axis=1)"
      ],
      "execution_count": 0,
      "outputs": []
    },
    {
      "cell_type": "code",
      "metadata": {
        "colab_type": "code",
        "id": "OYva0yrMH-Kn",
        "outputId": "ec958e2d-d690-4262-84c1-b86202a0be5a",
        "colab": {}
      },
      "source": [
        "# there are 10 different types of negative reasons\n",
        "negative_df.negative_reason.value_counts()"
      ],
      "execution_count": 0,
      "outputs": [
        {
          "output_type": "execute_result",
          "data": {
            "text/plain": [
              "Others                                 364\n",
              "Scandal                                270\n",
              "Tell lies                              198\n",
              "Economy                                 51\n",
              "Women Reproductive right and Racism     45\n",
              "Climate Problem                         41\n",
              "Separation                              16\n",
              "Privilege                               12\n",
              "Healthcare                               5\n",
              "Healthcare and Marijuana                 4\n",
              "Name: negative_reason, dtype: int64"
            ]
          },
          "metadata": {
            "tags": []
          },
          "execution_count": 110
        }
      ]
    },
    {
      "cell_type": "markdown",
      "metadata": {
        "colab_type": "text",
        "id": "8qAo963JKgGx"
      },
      "source": [
        "### Encoding 10 classes"
      ]
    },
    {
      "cell_type": "code",
      "metadata": {
        "colab_type": "code",
        "id": "Aj8SwTU3HdLq",
        "colab": {}
      },
      "source": [
        "# label encode the negative reasons\n",
        "negative_df['negative_reason'] = negative_df['negative_reason'].replace('Others', 0)\n",
        "negative_df['negative_reason'] = negative_df['negative_reason'].replace('Scandal', 1)\n",
        "negative_df['negative_reason'] = negative_df['negative_reason'].replace('Tell lies', 2)\n",
        "negative_df['negative_reason'] = negative_df['negative_reason'].replace('Economy', 3)\n",
        "negative_df['negative_reason'] = negative_df['negative_reason'].replace('Women Reproductive right and Racism', 4)\n",
        "negative_df['negative_reason'] = negative_df['negative_reason'].replace('Climate Problem', 5)\n",
        "negative_df['negative_reason'] = negative_df['negative_reason'].replace('Separation', 6)\n",
        "negative_df['negative_reason'] = negative_df['negative_reason'].replace('Privilege', 7)\n",
        "negative_df['negative_reason'] = negative_df['negative_reason'].replace('Healthcare', 8)\n",
        "negative_df['negative_reason'] = negative_df['negative_reason'].replace('Healthcare and Marijuana', 9)"
      ],
      "execution_count": 0,
      "outputs": []
    },
    {
      "cell_type": "markdown",
      "metadata": {
        "colab_type": "text",
        "id": "NeI-Qd45J1p2"
      },
      "source": [
        "### Train test split"
      ]
    },
    {
      "cell_type": "code",
      "metadata": {
        "colab_type": "code",
        "id": "ETtv0dRzJx5A",
        "colab": {}
      },
      "source": [
        "X = negative_df.drop(['negative_reason'],axis=1)\n",
        "y = negative_df['negative_reason']\n",
        "\n",
        "# split the test train data\n",
        "X_train, X_test, y_train, y_test = train_test_split(X, y, test_size=0.3, random_state=0)"
      ],
      "execution_count": 0,
      "outputs": []
    },
    {
      "cell_type": "markdown",
      "metadata": {
        "colab_type": "text",
        "id": "DrSMww0kPGM8"
      },
      "source": [
        "### Logistic Regression Model"
      ]
    },
    {
      "cell_type": "code",
      "metadata": {
        "colab_type": "code",
        "id": "z0wRoQG7PGM9",
        "outputId": "a3820ecc-dbd2-44a3-a523-7bea6d4d01ac",
        "colab": {}
      },
      "source": [
        "# train the logistic regression model\n",
        "log_neg_model = LogisticRegression(n_jobs=-1)\n",
        "log_neg_model.fit(X_train, y_train)\n",
        "LR_accuracy = log_neg_model.score(X_test, y_test)\n",
        "print(\"The accuracy of Logistic Regression Model on negative reason classification is :\",LR_accuracy)"
      ],
      "execution_count": 0,
      "outputs": [
        {
          "output_type": "stream",
          "text": [
            "The accuracy of Logistic Regression Model on negative reason classification is : 0.49337748344370863\n"
          ],
          "name": "stdout"
        }
      ]
    },
    {
      "cell_type": "code",
      "metadata": {
        "colab_type": "code",
        "id": "GWG7ZuC-PGM_",
        "colab": {}
      },
      "source": [
        "import itertools\n",
        "def plot_confusion_matrix(cm, classes,\n",
        "                          normalize=False,\n",
        "                          title='Confusion matrix',\n",
        "                          cmap=plt.cm.Blues, fs=(12,12),font_size=12):\n",
        "    \"\"\"\n",
        "    This function prints and plots the confusion matrix.\n",
        "    Normalization can be applied by setting `normalize=True`.\n",
        "    \"\"\"\n",
        "    if normalize:\n",
        "        cm = cm.astype('float') / cm.sum(axis=1)[:, np.newaxis]\n",
        "\n",
        "    plt.figure(figsize=fs);\n",
        "    plt.imshow(cm, interpolation='nearest', cmap=cmap)\n",
        "    plt.title(title, fontsize=font_size)\n",
        "    plt.colorbar()\n",
        "    tick_marks = np.arange(len(classes))\n",
        "    plt.xticks(tick_marks, classes, rotation=45)\n",
        "    plt.yticks(tick_marks, classes)\n",
        "\n",
        "    fmt = '.2f' if normalize else 'd'\n",
        "    thresh = cm.max() / 2.\n",
        "    for i, j in itertools.product(range(cm.shape[0]), range(cm.shape[1])):\n",
        "        plt.text(j, i, format(cm[i, j], fmt),\n",
        "                 horizontalalignment=\"center\",\n",
        "                 color=\"white\" if cm[i, j] > thresh else \"black\")\n",
        "\n",
        "    plt.ylabel('True label', fontsize=font_size-2)\n",
        "    plt.xlabel('Predicted label', fontsize=font_size-2)\n",
        "    plt.tight_layout()"
      ],
      "execution_count": 0,
      "outputs": []
    },
    {
      "cell_type": "code",
      "metadata": {
        "colab_type": "code",
        "id": "PD9pD76rPGNB",
        "outputId": "ddc0f7c4-8769-4445-d90f-c1172974eb22",
        "colab": {}
      },
      "source": [
        "ticklabel=negative_df.negative_reason.unique()\n",
        "\n",
        "\n",
        "log_predictions = log_neg_model.predict(X_test)\n",
        "log_predictions_series = pd.Series(log_predictions)\n",
        "log_predictions_series = log_predictions_series.astype(int)\n",
        "\n",
        "scores_multi = cross_val_score(log_neg_model, X_train, y_train , cv=10)\n",
        "print(\"Cross Validation Accuracy: %0.2f (+/- %0.2f)\" % (scores_multi.mean(), scores_multi.std() * 2))\n",
        "print(\"\\n\")\n",
        "cm=confusion_matrix(y_test, log_predictions_series, labels=ticklabel)\n",
        "plt.figure()\n",
        "plot_confusion_matrix(cm, classes=ticklabel, title='Negative Reason Predictions', fs=(12,12), font_size=16)\n",
        "\n",
        "\n",
        "print(classification_report(y_test, log_predictions_series))"
      ],
      "execution_count": 0,
      "outputs": [
        {
          "output_type": "stream",
          "text": [
            "Cross Validation Accuracy: 0.50 (+/- 0.09)\n",
            "\n",
            "\n",
            "              precision    recall  f1-score   support\n",
            "\n",
            "           0       0.56      0.60      0.58       115\n",
            "           1       0.58      0.42      0.49        92\n",
            "           2       0.38      0.54      0.45        54\n",
            "           3       0.50      0.26      0.34        19\n",
            "           4       0.25      0.43      0.32         7\n",
            "           5       0.44      0.40      0.42        10\n",
            "           6       0.00      0.00      0.00         3\n",
            "           7       0.00      0.00      0.00         1\n",
            "           9       0.00      0.00      0.00         1\n",
            "\n",
            "    accuracy                           0.49       302\n",
            "   macro avg       0.30      0.29      0.29       302\n",
            "weighted avg       0.51      0.49      0.49       302\n",
            "\n"
          ],
          "name": "stdout"
        },
        {
          "output_type": "display_data",
          "data": {
            "text/plain": [
              "<Figure size 432x288 with 0 Axes>"
            ]
          },
          "metadata": {
            "tags": []
          }
        },
        {
          "output_type": "display_data",
          "data": {
            "image/png": "[encoded data removed]",
            "text/plain": [
              "<Figure size 864x864 with 2 Axes>"
            ]
          },
          "metadata": {
            "tags": [],
            "needs_background": "light"
          }
        }
      ]
    },
    {
      "cell_type": "markdown",
      "metadata": {
        "id": "Ncn48RZEa288",
        "colab_type": "text"
      },
      "source": [
        "Logistice Regression model got 49% accuracy score when implemented to negative reason prediction, most accurate three classes are 0, 1, 2 (Others, Scandal, Tell Lies)."
      ]
    },
    {
      "cell_type": "markdown",
      "metadata": {
        "colab_type": "text",
        "id": "t5_u4sssPGNC"
      },
      "source": [
        "### Decision Tree"
      ]
    },
    {
      "cell_type": "code",
      "metadata": {
        "colab_type": "code",
        "id": "eB5_4WlFPGNC",
        "outputId": "d7e9aee9-0a11-4a13-fb04-46ea21d3aa14",
        "colab": {}
      },
      "source": [
        "# train the decision tree model\n",
        "DT_neg_model = DecisionTreeClassifier(random_state=0)\n",
        "DT_neg_model.fit(X_train, y_train)\n",
        "DT_accuracy = DT_neg_model.score(X_test, y_test)\n",
        "print(\"The accuracy of Decision Tree Model on negative reason classification is :\",DT_accuracy)"
      ],
      "execution_count": 0,
      "outputs": [
        {
          "output_type": "stream",
          "text": [
            "The accuracy of Decision Tree Model on negative reason classification is : 0.5231788079470199\n"
          ],
          "name": "stdout"
        }
      ]
    },
    {
      "cell_type": "code",
      "metadata": {
        "colab_type": "code",
        "id": "3scgY6tlPGND",
        "outputId": "1976f23d-ab1a-4493-ee61-2dcfc432a63e",
        "colab": {}
      },
      "source": [
        "ticklabel=negative_df.negative_reason.unique()\n",
        "\n",
        "\n",
        "DT_predictions = DT_neg_model.predict(X_test)\n",
        "DT_predictions_series = pd.Series(DT_predictions)\n",
        "DT_predictions_series = DT_predictions_series.astype(int)\n",
        "\n",
        "scores_multi = cross_val_score(DT_neg_model, X_train, y_train , cv=10)\n",
        "print(\"Cross Validation Accuracy: %0.2f (+/- %0.2f)\" % (scores_multi.mean(), scores_multi.std() * 2))\n",
        "print(\"\\n\")\n",
        "cm=confusion_matrix(y_test, DT_predictions_series, labels=ticklabel)\n",
        "plt.figure()\n",
        "plot_confusion_matrix(cm, classes=ticklabel, title='Negative Reason Predictions', fs=(12,12), font_size=16)\n",
        "\n",
        "\n",
        "print(classification_report(y_test, DT_predictions_series))"
      ],
      "execution_count": 0,
      "outputs": [
        {
          "output_type": "stream",
          "text": [
            "Cross Validation Accuracy: 0.51 (+/- 0.11)\n",
            "\n",
            "\n",
            "              precision    recall  f1-score   support\n",
            "\n",
            "           0       0.56      0.57      0.56       115\n",
            "           1       0.55      0.46      0.50        92\n",
            "           2       0.52      0.59      0.55        54\n",
            "           3       0.53      0.42      0.47        19\n",
            "           4       0.40      0.57      0.47         7\n",
            "           5       0.50      0.60      0.55        10\n",
            "           6       0.11      0.33      0.17         3\n",
            "           7       0.00      0.00      0.00         1\n",
            "           9       0.00      0.00      0.00         1\n",
            "\n",
            "    accuracy                           0.52       302\n",
            "   macro avg       0.35      0.39      0.36       302\n",
            "weighted avg       0.53      0.52      0.52       302\n",
            "\n"
          ],
          "name": "stdout"
        },
        {
          "output_type": "display_data",
          "data": {
            "text/plain": [
              "<Figure size 432x288 with 0 Axes>"
            ]
          },
          "metadata": {
            "tags": []
          }
        },
        {
          "output_type": "display_data",
          "data": {
            "image/png": "[encoded data removed]",
            "text/plain": [
              "<Figure size 864x864 with 2 Axes>"
            ]
          },
          "metadata": {
            "tags": [],
            "needs_background": "light"
          }
        }
      ]
    },
    {
      "cell_type": "markdown",
      "metadata": {
        "id": "p-DfqjRlavdR",
        "colab_type": "text"
      },
      "source": [
        "Decision Tree model got 52% accuracy when implemented to negative reason prediction, most accurate three classes are 0, 1, 2 (Others, Scandal, Tell Lies)."
      ]
    },
    {
      "cell_type": "markdown",
      "metadata": {
        "colab_type": "text",
        "id": "1hADGpNfPGNE"
      },
      "source": [
        "### SVM"
      ]
    },
    {
      "cell_type": "code",
      "metadata": {
        "colab_type": "code",
        "id": "A6GYHqj5PGNF",
        "outputId": "0c7ebc89-867c-4f42-93e2-08cdade1b34e",
        "colab": {}
      },
      "source": [
        "# train the SVM model\n",
        "SVM_neg_model = SVC()\n",
        "SVM_neg_model.fit(X_train, y_train)\n",
        "SVM_accuracy = SVM_neg_model.score(X_test, y_test)\n",
        "print(\"The accuracy of SVM Model on negative reason classification is :\",SVM_accuracy)"
      ],
      "execution_count": 0,
      "outputs": [
        {
          "output_type": "stream",
          "text": [
            "The accuracy of SVM Model on negative reason classification is : 0.5198675496688742\n"
          ],
          "name": "stdout"
        }
      ]
    },
    {
      "cell_type": "code",
      "metadata": {
        "colab_type": "code",
        "id": "Nats0j4pPGNG",
        "outputId": "c4c02f2c-f75d-4013-9f7f-6fab4ad3c5fe",
        "colab": {}
      },
      "source": [
        "ticklabel=negative_df.negative_reason.unique()\n",
        "\n",
        "\n",
        "SVM_predictions = SVM_neg_model.predict(X_test)\n",
        "SVM_predictions_series = pd.Series(SVM_predictions)\n",
        "SVM_predictions_series = SVM_predictions_series.astype(int)\n",
        "\n",
        "scores_multi = cross_val_score(SVM_neg_model, X_train, y_train , cv=10)\n",
        "print(\"Cross Validation Accuracy: %0.2f (+/- %0.2f)\" % (scores_multi.mean(), scores_multi.std() * 2))\n",
        "print(\"\\n\")\n",
        "cm=confusion_matrix(y_test, SVM_predictions_series, labels=ticklabel)\n",
        "plt.figure()\n",
        "plot_confusion_matrix(cm, classes=ticklabel, title='Negative Reason Predictions', fs=(12,12), font_size=16)\n",
        "\n",
        "\n",
        "print(classification_report(y_test, SVM_predictions_series))"
      ],
      "execution_count": 0,
      "outputs": [
        {
          "output_type": "stream",
          "text": [
            "Cross Validation Accuracy: 0.47 (+/- 0.11)\n",
            "\n",
            "\n",
            "              precision    recall  f1-score   support\n",
            "\n",
            "           0       0.45      0.92      0.60       115\n",
            "           1       0.73      0.33      0.45        92\n",
            "           2       0.89      0.31      0.47        54\n",
            "           3       1.00      0.11      0.19        19\n",
            "           4       1.00      0.14      0.25         7\n",
            "           5       1.00      0.10      0.18        10\n",
            "           6       0.00      0.00      0.00         3\n",
            "           7       0.00      0.00      0.00         1\n",
            "           9       0.00      0.00      0.00         1\n",
            "\n",
            "    accuracy                           0.52       302\n",
            "   macro avg       0.56      0.21      0.24       302\n",
            "weighted avg       0.67      0.52      0.47       302\n",
            "\n"
          ],
          "name": "stdout"
        },
        {
          "output_type": "display_data",
          "data": {
            "text/plain": [
              "<Figure size 432x288 with 0 Axes>"
            ]
          },
          "metadata": {
            "tags": []
          }
        },
        {
          "output_type": "display_data",
          "data": {
            "image/png": "[encoded data removed]",
            "text/plain": [
              "<Figure size 864x864 with 2 Axes>"
            ]
          },
          "metadata": {
            "tags": [],
            "needs_background": "light"
          }
        }
      ]
    },
    {
      "cell_type": "markdown",
      "metadata": {
        "id": "1QNJuWGjacMW",
        "colab_type": "text"
      },
      "source": [
        "SVM model got 52% accuracy when implemented to negative reason prediction, most accurate three classes are 0, 1, 2 (Others, Scandal, Tell Lies)."
      ]
    },
    {
      "cell_type": "markdown",
      "metadata": {
        "colab_type": "text",
        "id": "ThB3_KtPPGNH"
      },
      "source": [
        "### **Bonus**: Word Embedding Feature for Multi-class Prediction Model"
      ]
    },
    {
      "cell_type": "markdown",
      "metadata": {
        "colab_type": "text",
        "id": "Y9MZA88TP8fS"
      },
      "source": [
        "In this section, I implemented word embedding features on negative reason prediction task. Splitted the dataset into training set and test set."
      ]
    },
    {
      "cell_type": "code",
      "metadata": {
        "colab_type": "code",
        "id": "kLvxuTNCPGNH",
        "colab": {}
      },
      "source": [
        "# create a dataset of cleaned election tweets\n",
        "elec_data_df = pd.concat([canadian_elections_final['negative_reason'], \n",
        "                         canadian_elections_final['sentiment_labels'] ,canadian_elections_final['cleaned_tweets']], axis=1)\n",
        "\n",
        "# find all the negative sentiment\n",
        "negative_df_emb = elec_data_df[elec_data_df['sentiment_labels'] == 0]\n",
        "\n",
        "\n",
        "# drop unecessary columns \n",
        "negative_df_emb = negative_df_emb.drop(['sentiment_labels'], axis=1)"
      ],
      "execution_count": 0,
      "outputs": []
    },
    {
      "cell_type": "code",
      "metadata": {
        "colab_type": "code",
        "id": "1ufiNIn1PGNI",
        "colab": {}
      },
      "source": [
        "# label encode the negative reasons\n",
        "negative_df_emb['negative_reason'] = negative_df_emb['negative_reason'].replace('Others', 0)\n",
        "negative_df_emb['negative_reason'] = negative_df_emb['negative_reason'].replace('Scandal', 1)\n",
        "negative_df_emb['negative_reason'] = negative_df_emb['negative_reason'].replace('Tell lies', 2)\n",
        "negative_df_emb['negative_reason'] = negative_df_emb['negative_reason'].replace('Economy', 3)\n",
        "negative_df_emb['negative_reason'] = negative_df_emb['negative_reason'].replace('Women Reproductive right and Racism', 4)\n",
        "negative_df_emb['negative_reason'] = negative_df_emb['negative_reason'].replace('Climate Problem', 5)\n",
        "negative_df_emb['negative_reason'] = negative_df_emb['negative_reason'].replace('Separation', 6)\n",
        "negative_df_emb['negative_reason'] = negative_df_emb['negative_reason'].replace('Privilege', 7)\n",
        "negative_df_emb['negative_reason'] = negative_df_emb['negative_reason'].replace('Healthcare', 8)\n",
        "negative_df_emb['negative_reason'] = negative_df_emb['negative_reason'].replace('Healthcare and Marijuana', 9)"
      ],
      "execution_count": 0,
      "outputs": []
    },
    {
      "cell_type": "code",
      "metadata": {
        "colab_type": "code",
        "id": "Pkn-uxNFPGNL",
        "colab": {}
      },
      "source": [
        "#!pip install gensim\n",
        "from gensim.models import word2vec\n",
        "embedding = word2vec.Word2Vec(negative_df_emb.cleaned_tweets.values, size=500, min_count=1)"
      ],
      "execution_count": 0,
      "outputs": []
    },
    {
      "cell_type": "code",
      "metadata": {
        "colab_type": "code",
        "id": "3NjEMTnUPGNM",
        "colab": {}
      },
      "source": [
        "def buildWordVector(text, size):\n",
        "    vec = np.zeros(size).reshape((1, size))\n",
        "    count = 0.\n",
        "    for word in text:\n",
        "        vec += embedding[word].reshape((1, size))\n",
        "        count += 1.\n",
        "    if count != 0:\n",
        "        vec /= count\n",
        "    return vec"
      ],
      "execution_count": 0,
      "outputs": []
    },
    {
      "cell_type": "code",
      "metadata": {
        "colab_type": "code",
        "id": "Y2FK7uHXPGNN",
        "colab": {}
      },
      "source": [
        "negative_tweet_x = np.concatenate([buildWordVector(z, 500) for z in negative_df_emb.cleaned_tweets.values])\n",
        "negative_tweet_y = negative_df_emb['negative_reason'].to_numpy()\n",
        "negative_tweet_train, negative_tweet_test, negative_reason_train, negative_reason_test = train_test_split(negative_tweet_x, negative_tweet_y, test_size=0.3)"
      ],
      "execution_count": 0,
      "outputs": []
    },
    {
      "cell_type": "code",
      "metadata": {
        "colab_type": "code",
        "id": "34TizWypPGNP",
        "outputId": "8d57625c-377f-4af1-b2e5-915d7ff5b47a",
        "colab": {}
      },
      "source": [
        "#example output after word embedding\n",
        "negative_tweet_train"
      ],
      "execution_count": 0,
      "outputs": [
        {
          "output_type": "execute_result",
          "data": {
            "text/plain": [
              "array([[-0.0121771 , -0.0239961 ,  0.01472597, ...,  0.17724045,\n",
              "        -0.02360805,  0.04056523],\n",
              "       [-0.01696163, -0.02661662,  0.01306603, ...,  0.18019034,\n",
              "        -0.02204062,  0.04283178],\n",
              "       [-0.01436177, -0.02867156,  0.01662061, ...,  0.17968905,\n",
              "        -0.02401916,  0.04140863],\n",
              "       ...,\n",
              "       [-0.00589244, -0.02010047,  0.0166275 , ...,  0.17004718,\n",
              "        -0.02605163,  0.03584241],\n",
              "       [-0.00754856, -0.01893157,  0.01439107, ...,  0.16750073,\n",
              "        -0.02360048,  0.03727066],\n",
              "       [ 0.0059899 , -0.01410359,  0.02041171, ...,  0.15489954,\n",
              "        -0.0294492 ,  0.03003714]])"
            ]
          },
          "metadata": {
            "tags": []
          },
          "execution_count": 125
        }
      ]
    },
    {
      "cell_type": "markdown",
      "metadata": {
        "colab_type": "text",
        "id": "Dy0JdyalPGNR"
      },
      "source": [
        "#### Logistic Regression on Word Embedding Feature"
      ]
    },
    {
      "cell_type": "code",
      "metadata": {
        "colab_type": "code",
        "id": "mVma0GznPGNR",
        "outputId": "8ecb60a4-76d0-4584-d6a6-f7c721f70404",
        "colab": {}
      },
      "source": [
        "# train the logistic regression model\n",
        "log_neg_model_embedding = LogisticRegression(n_jobs=-1)\n",
        "log_neg_model_embedding.fit(negative_tweet_train, negative_reason_train)\n",
        "LR_accuracy_emb = log_neg_model_embedding.score(negative_tweet_test, negative_reason_test)\n",
        "print(\"The accuracy of Logistic Regression Model on negative reason classification is :\",LR_accuracy_emb)"
      ],
      "execution_count": 0,
      "outputs": [
        {
          "output_type": "stream",
          "text": [
            "The accuracy of Logistic Regression Model on negative reason classification is : 0.37748344370860926\n"
          ],
          "name": "stdout"
        }
      ]
    },
    {
      "cell_type": "markdown",
      "metadata": {
        "colab_type": "text",
        "id": "KXKsAvXkPGNU"
      },
      "source": [
        "#### SVM on Word Embedding Feature"
      ]
    },
    {
      "cell_type": "code",
      "metadata": {
        "colab_type": "code",
        "id": "dvggneFAPGNU",
        "outputId": "39938af3-34be-413a-f72f-2e089f158c46",
        "colab": {}
      },
      "source": [
        "# train the SVM model\n",
        "SVM_neg_model_emb = SVC()\n",
        "SVM_neg_model_emb.fit(negative_tweet_train, negative_reason_train)\n",
        "SVM_accuracy_emb = SVM_neg_model_emb.score(negative_tweet_test, negative_reason_test)\n",
        "print(\"The accuracy of SVM Model on negative reason classification is :\",SVM_accuracy_emb)"
      ],
      "execution_count": 0,
      "outputs": [
        {
          "output_type": "stream",
          "text": [
            "The accuracy of SVM Model on negative reason classification is : 0.39403973509933776\n"
          ],
          "name": "stdout"
        }
      ]
    },
    {
      "cell_type": "markdown",
      "metadata": {
        "colab_type": "text",
        "id": "EHPLEFdePGNX"
      },
      "source": [
        "#### Decision Tree on Word Embedding Feature"
      ]
    },
    {
      "cell_type": "code",
      "metadata": {
        "colab_type": "code",
        "id": "lUPhD94YPGNX",
        "outputId": "24cbcd4f-ab62-4ac8-803e-565a4ad91497",
        "colab": {}
      },
      "source": [
        "# train the decision tree model\n",
        "DT_neg_model_emb = DecisionTreeClassifier(random_state=0)\n",
        "DT_neg_model_emb.fit(negative_tweet_train, negative_reason_train)\n",
        "DT_accuracy_emb = DT_neg_model_emb.score(negative_tweet_test, negative_reason_test)\n",
        "print(\"The accuracy of Decision Tree Model on negative reason classification is :\",DT_accuracy_emb)"
      ],
      "execution_count": 0,
      "outputs": [
        {
          "output_type": "stream",
          "text": [
            "The accuracy of Decision Tree Model on negative reason classification is : 0.25496688741721857\n"
          ],
          "name": "stdout"
        }
      ]
    },
    {
      "cell_type": "markdown",
      "metadata": {
        "colab_type": "text",
        "id": "k3SrW0LvQNoc"
      },
      "source": [
        "# Results"
      ]
    },
    {
      "cell_type": "markdown",
      "metadata": {
        "colab_type": "text",
        "id": "IsSiMJXfTMsp"
      },
      "source": [
        "## First Model"
      ]
    },
    {
      "cell_type": "markdown",
      "metadata": {
        "colab_type": "text",
        "id": "vVKExGjFQP3D"
      },
      "source": [
        "**What can public opinion on Twitter tell us about the Canadian political landscape in 2019?** :\n",
        "\n",
        "Based on the results before, the following are a few interpretations based on the analysis and results:\n",
        "\n",
        "   - Roughly 50% of tweets about the election do not mention a specific political party. This may imply that half of the users choose to not share their political standing (perhaps this is the reason why I get poor predictions).\n",
        "    \n",
        "   - The tweets that mention political parties, the two most popular ones are Liberals and Conservatives. This implies that the general public are mostly divided between either Liberals or Conservatives. This makes sense as these two parties stand for opposing platforms.\n",
        "   \n",
        "   - There are more positive tweets than negative tweets in the canadian elections dataset. This is not an accurate representation of every election tweet as the real dataset could be imbalacned (either more positive or negative)."
      ]
    },
    {
      "cell_type": "markdown",
      "metadata": {
        "colab_type": "text",
        "id": "9y0npys8Qn78"
      },
      "source": [
        "**how each party is viewed in the public eye based on the sentiment value?**:\n",
        "\n",
        "**None:** As mentioned above, half of the total tweets users did not mention a political party in their tweets.\n",
        "\n",
        "**Conservative:** Almost double the people who mention Conservatives related words have expressed negative sentiment when compared to positive sentiment. This implies that the tweets user tends to not like this political party.\n",
        "\n",
        "**Liberal:** The public's opinion on Twitter seem to split evenly between positive and negative sentiment with regards to the Liberal party. In other words, there are even amount of people who like and dislike this party.\n",
        "\n",
        "**NDP:** This is the only political party that the public's opinion on Twitter are generally positive with more than double the amount when compared to the negative tweets.\n",
        "\n",
        "Majority of people who mention a political party are either Conservative or Liberal, and the fact that most people mentioning Conservatives are negative, Thus, winner of the 2019 election winner is from the Liberal political party.\n"
      ]
    },
    {
      "cell_type": "markdown",
      "metadata": {
        "colab_type": "text",
        "id": "YNVhop7vqxT6"
      },
      "source": [
        "## Second Model"
      ]
    },
    {
      "cell_type": "markdown",
      "metadata": {
        "colab_type": "text",
        "id": "XyLmMemuq04X"
      },
      "source": [
        "**Based on the model that worked best, provide a few reasons why your model may fail to predict the correct negative reasons:**\n",
        "\n",
        "\n",
        "*   The three models that I implemented to predict the negative reasons (logistic regression, decision trees and SVM), SVM model performed best which  at approximately 53% accuracy. Based on the confusion matrix in that section, it can be seen that the class 0, 1, 2 (Others, Scandal, Tell Lies) were predicted well while the last 6 did not do so well. This is primarily due to the fact that the dataset was imbalanced, each class does not have equally number of samples. \n",
        "\n",
        "There are significantly more samples belonging to the first 3 kinds of negative reasons; therefore, the model learned to predict these three classes more.\n",
        "\n"
      ]
    },
    {
      "cell_type": "markdown",
      "metadata": {
        "colab_type": "text",
        "id": "ggxLivdUsFjM"
      },
      "source": [
        "## For both models, suggest one way you can improve the accuracy of your models:"
      ]
    },
    {
      "cell_type": "markdown",
      "metadata": {
        "colab_type": "text",
        "id": "chYkgnWTsG5f"
      },
      "source": [
        "In order to improve the prediction of sentiment and negative reason on the elections data, the following may help to get better prediction results.\n",
        "\n",
        "   - **First model: Sentiment Prediction**\n",
        "       - I believe using election data from previous years to train the sentiment prediction model would yield a higher accuracy when evaluated on this year's election because the model would be able to learn more meaningful/relevant information from election-type tweets.\n",
        "       - I can also improve the accuracy of this model is that I could use a deeper complex model, such as RNN. RNN is a better model for natural language processing, as well as sentiment analysis.\n",
        "       \n",
        "   - **Second model: Negative Reason Prediction**\n",
        "       - The main reason why the negative reason prediction did not do so well  is because of an **imbalanced** dataset. There are not enough samples that support the other 6 reasons (besides Others, Scandal, Tell Lies); therefore, the model was not able to accurately learn how to predict those reasons.\n",
        "       - So a more balanced dataset would improve the overall accuracy (equal amount of samples for every negative reason)\n",
        "       - Another solution would be to categorize the negative reasons in to fewer classes to even out the differences in number of samples. This will provide the model with enough data to correctly learn how to predict each negative reason.\n",
        "       - The best way to improve the accuracy of this model is to get more data that has negative reasons other than \"Other\". "
      ]
    }
  ]
}